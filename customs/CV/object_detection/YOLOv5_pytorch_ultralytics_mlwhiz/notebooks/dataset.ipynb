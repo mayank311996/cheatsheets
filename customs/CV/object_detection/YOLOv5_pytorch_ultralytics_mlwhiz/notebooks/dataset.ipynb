{
 "cells": [
  {
   "cell_type": "code",
   "execution_count": 1,
   "metadata": {},
   "outputs": [],
   "source": [
    "import glob, os\n",
    "import random\n",
    "\n",
    "# put your own path here\n",
    "dataset_path = '../../OIDv4_ToolKit/dataset'\n",
    "\n",
    "# Percentage of images to be used for the validation set\n",
    "percentage_test = 20\n",
    "\n",
    "!mkdir data\n",
    "!mkdir data/images\n",
    "!mkdir data/labels\n",
    "!mkdir data/images/train\n",
    "!mkdir data/images/valid\n",
    "!mkdir data/labels/train\n",
    "!mkdir data/labels/valid\n",
    "\n",
    "# Populate the folders\n",
    "p = percentage_test/100\n",
    "for pathAndFilename in glob.iglob(os.path.join(dataset_path, \"*.jpg\")):  \n",
    "    title, ext = os.path.splitext(os.path.basename(pathAndFilename))\n",
    "    if random.random() <=p :\n",
    "        os.system(f\"cp {dataset_path}/{title}.jpg data/images/valid\")\n",
    "        os.system(f\"cp {dataset_path}/{title}.txt data/labels/valid\")\n",
    "    else:\n",
    "        os.system(f\"cp {dataset_path}/{title}.jpg data/images/train\")\n",
    "        os.system(f\"cp {dataset_path}/{title}.txt data/labels/train\")"
   ]
  },
  {
   "cell_type": "code",
   "execution_count": null,
   "metadata": {},
   "outputs": [],
   "source": []
  }
 ],
 "metadata": {
  "kernelspec": {
   "display_name": "Environment (conda_pytorch_latest_p36)",
   "language": "python",
   "name": "conda_pytorch_latest_p36"
  },
  "language_info": {
   "codemirror_mode": {
    "name": "ipython",
    "version": 3
   },
   "file_extension": ".py",
   "mimetype": "text/x-python",
   "name": "python",
   "nbconvert_exporter": "python",
   "pygments_lexer": "ipython3",
   "version": "3.6.10"
  }
 },
 "nbformat": 4,
 "nbformat_minor": 4
}
