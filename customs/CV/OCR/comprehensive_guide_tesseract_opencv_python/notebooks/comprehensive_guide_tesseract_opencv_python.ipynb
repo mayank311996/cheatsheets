{
  "nbformat": 4,
  "nbformat_minor": 0,
  "metadata": {
    "colab": {
      "name": "comprehensive_guide_tesseract_opencv_python.ipynb",
      "provenance": [],
      "collapsed_sections": []
    },
    "kernelspec": {
      "name": "python3",
      "display_name": "Python 3"
    }
  },
  "cells": [
    {
      "cell_type": "code",
      "metadata": {
        "id": "9xER1_ygnDHc"
      },
      "source": [
        ""
      ],
      "execution_count": null,
      "outputs": []
    }
  ]
}