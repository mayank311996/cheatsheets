{
 "cells": [
  {
   "cell_type": "markdown",
   "id": "familiar-standing",
   "metadata": {},
   "source": [
    "# Pandas data reader "
   ]
  },
  {
   "cell_type": "code",
   "execution_count": 3,
   "id": "verbal-translation",
   "metadata": {},
   "outputs": [],
   "source": [
    "import numpy as np\n",
    "import pandas as pd \n",
    "import plotly.graph_objects as go\n",
    "from datetime import date \n",
    "from pandas_datareader import data, wb"
   ]
  },
  {
   "cell_type": "code",
   "execution_count": 5,
   "id": "anticipated-offering",
   "metadata": {},
   "outputs": [],
   "source": [
    "start_date = pd.to_datetime('2018-07-15')\n",
    "end_date = pd.to_datetime(date.today())"
   ]
  },
  {
   "cell_type": "code",
   "execution_count": 7,
   "id": "square-renewal",
   "metadata": {},
   "outputs": [
    {
     "data": {
      "text/plain": [
       "Timestamp('2018-07-15 00:00:00')"
      ]
     },
     "execution_count": 7,
     "metadata": {},
     "output_type": "execute_result"
    }
   ],
   "source": [
    "start_date"
   ]
  },
  {
   "cell_type": "code",
   "execution_count": 8,
   "id": "balanced-seattle",
   "metadata": {},
   "outputs": [
    {
     "data": {
      "text/plain": [
       "Timestamp('2021-03-05 00:00:00')"
      ]
     },
     "execution_count": 8,
     "metadata": {},
     "output_type": "execute_result"
    }
   ],
   "source": [
    "end_date"
   ]
  },
  {
   "cell_type": "markdown",
   "id": "signed-edwards",
   "metadata": {},
   "source": [
    "## Yahoo Finance"
   ]
  },
  {
   "cell_type": "code",
   "execution_count": 9,
   "id": "complimentary-variety",
   "metadata": {},
   "outputs": [
    {
     "data": {
      "text/html": [
       "<div>\n",
       "<style scoped>\n",
       "    .dataframe tbody tr th:only-of-type {\n",
       "        vertical-align: middle;\n",
       "    }\n",
       "\n",
       "    .dataframe tbody tr th {\n",
       "        vertical-align: top;\n",
       "    }\n",
       "\n",
       "    .dataframe thead th {\n",
       "        text-align: right;\n",
       "    }\n",
       "</style>\n",
       "<table border=\"1\" class=\"dataframe\">\n",
       "  <thead>\n",
       "    <tr style=\"text-align: right;\">\n",
       "      <th></th>\n",
       "      <th>High</th>\n",
       "      <th>Low</th>\n",
       "      <th>Open</th>\n",
       "      <th>Close</th>\n",
       "      <th>Volume</th>\n",
       "      <th>Adj Close</th>\n",
       "    </tr>\n",
       "    <tr>\n",
       "      <th>Date</th>\n",
       "      <th></th>\n",
       "      <th></th>\n",
       "      <th></th>\n",
       "      <th></th>\n",
       "      <th></th>\n",
       "      <th></th>\n",
       "    </tr>\n",
       "  </thead>\n",
       "  <tbody>\n",
       "    <tr>\n",
       "      <th>2018-07-16</th>\n",
       "      <td>279.799988</td>\n",
       "      <td>278.839996</td>\n",
       "      <td>279.640015</td>\n",
       "      <td>279.339996</td>\n",
       "      <td>48201000.0</td>\n",
       "      <td>266.354767</td>\n",
       "    </tr>\n",
       "    <tr>\n",
       "      <th>2018-07-17</th>\n",
       "      <td>280.910004</td>\n",
       "      <td>278.410004</td>\n",
       "      <td>278.470001</td>\n",
       "      <td>280.470001</td>\n",
       "      <td>52315500.0</td>\n",
       "      <td>267.432190</td>\n",
       "    </tr>\n",
       "    <tr>\n",
       "      <th>2018-07-18</th>\n",
       "      <td>281.179993</td>\n",
       "      <td>280.059998</td>\n",
       "      <td>280.559998</td>\n",
       "      <td>281.059998</td>\n",
       "      <td>44593500.0</td>\n",
       "      <td>267.994843</td>\n",
       "    </tr>\n",
       "    <tr>\n",
       "      <th>2018-07-19</th>\n",
       "      <td>280.739990</td>\n",
       "      <td>279.459991</td>\n",
       "      <td>280.309998</td>\n",
       "      <td>280.000000</td>\n",
       "      <td>61412100.0</td>\n",
       "      <td>266.984070</td>\n",
       "    </tr>\n",
       "    <tr>\n",
       "      <th>2018-07-20</th>\n",
       "      <td>280.480011</td>\n",
       "      <td>279.500000</td>\n",
       "      <td>279.769989</td>\n",
       "      <td>279.679993</td>\n",
       "      <td>82337700.0</td>\n",
       "      <td>266.678925</td>\n",
       "    </tr>\n",
       "    <tr>\n",
       "      <th>...</th>\n",
       "      <td>...</td>\n",
       "      <td>...</td>\n",
       "      <td>...</td>\n",
       "      <td>...</td>\n",
       "      <td>...</td>\n",
       "      <td>...</td>\n",
       "    </tr>\n",
       "    <tr>\n",
       "      <th>2021-03-01</th>\n",
       "      <td>390.920013</td>\n",
       "      <td>380.570007</td>\n",
       "      <td>385.589996</td>\n",
       "      <td>389.579987</td>\n",
       "      <td>104945700.0</td>\n",
       "      <td>389.579987</td>\n",
       "    </tr>\n",
       "    <tr>\n",
       "      <th>2021-03-02</th>\n",
       "      <td>390.070007</td>\n",
       "      <td>386.000000</td>\n",
       "      <td>389.820007</td>\n",
       "      <td>386.540009</td>\n",
       "      <td>79389200.0</td>\n",
       "      <td>386.540009</td>\n",
       "    </tr>\n",
       "    <tr>\n",
       "      <th>2021-03-03</th>\n",
       "      <td>386.829987</td>\n",
       "      <td>381.309998</td>\n",
       "      <td>385.790009</td>\n",
       "      <td>381.420013</td>\n",
       "      <td>119482700.0</td>\n",
       "      <td>381.420013</td>\n",
       "    </tr>\n",
       "    <tr>\n",
       "      <th>2021-03-04</th>\n",
       "      <td>384.000000</td>\n",
       "      <td>371.880005</td>\n",
       "      <td>381.220001</td>\n",
       "      <td>376.700012</td>\n",
       "      <td>182856500.0</td>\n",
       "      <td>376.700012</td>\n",
       "    </tr>\n",
       "    <tr>\n",
       "      <th>2021-03-05</th>\n",
       "      <td>380.589996</td>\n",
       "      <td>372.640015</td>\n",
       "      <td>380.459991</td>\n",
       "      <td>378.929993</td>\n",
       "      <td>79201836.0</td>\n",
       "      <td>378.929993</td>\n",
       "    </tr>\n",
       "  </tbody>\n",
       "</table>\n",
       "<p>665 rows × 6 columns</p>\n",
       "</div>"
      ],
      "text/plain": [
       "                  High         Low        Open       Close       Volume  \\\n",
       "Date                                                                      \n",
       "2018-07-16  279.799988  278.839996  279.640015  279.339996   48201000.0   \n",
       "2018-07-17  280.910004  278.410004  278.470001  280.470001   52315500.0   \n",
       "2018-07-18  281.179993  280.059998  280.559998  281.059998   44593500.0   \n",
       "2018-07-19  280.739990  279.459991  280.309998  280.000000   61412100.0   \n",
       "2018-07-20  280.480011  279.500000  279.769989  279.679993   82337700.0   \n",
       "...                ...         ...         ...         ...          ...   \n",
       "2021-03-01  390.920013  380.570007  385.589996  389.579987  104945700.0   \n",
       "2021-03-02  390.070007  386.000000  389.820007  386.540009   79389200.0   \n",
       "2021-03-03  386.829987  381.309998  385.790009  381.420013  119482700.0   \n",
       "2021-03-04  384.000000  371.880005  381.220001  376.700012  182856500.0   \n",
       "2021-03-05  380.589996  372.640015  380.459991  378.929993   79201836.0   \n",
       "\n",
       "             Adj Close  \n",
       "Date                    \n",
       "2018-07-16  266.354767  \n",
       "2018-07-17  267.432190  \n",
       "2018-07-18  267.994843  \n",
       "2018-07-19  266.984070  \n",
       "2018-07-20  266.678925  \n",
       "...                ...  \n",
       "2021-03-01  389.579987  \n",
       "2021-03-02  386.540009  \n",
       "2021-03-03  381.420013  \n",
       "2021-03-04  376.700012  \n",
       "2021-03-05  378.929993  \n",
       "\n",
       "[665 rows x 6 columns]"
      ]
     },
     "execution_count": 9,
     "metadata": {},
     "output_type": "execute_result"
    }
   ],
   "source": [
    "data.DataReader(\"SPY\", 'yahoo', start_date, end_date)"
   ]
  },
  {
   "cell_type": "markdown",
   "id": "southeast-referral",
   "metadata": {},
   "source": [
    "## Google Finance"
   ]
  },
  {
   "cell_type": "code",
   "execution_count": 10,
   "id": "brilliant-poultry",
   "metadata": {},
   "outputs": [
    {
     "data": {
      "text/html": [
       "<div>\n",
       "<style scoped>\n",
       "    .dataframe tbody tr th:only-of-type {\n",
       "        vertical-align: middle;\n",
       "    }\n",
       "\n",
       "    .dataframe tbody tr th {\n",
       "        vertical-align: top;\n",
       "    }\n",
       "\n",
       "    .dataframe thead th {\n",
       "        text-align: right;\n",
       "    }\n",
       "</style>\n",
       "<table border=\"1\" class=\"dataframe\">\n",
       "  <thead>\n",
       "    <tr style=\"text-align: right;\">\n",
       "      <th></th>\n",
       "      <th>Open</th>\n",
       "      <th>High</th>\n",
       "      <th>Low</th>\n",
       "      <th>Close</th>\n",
       "      <th>Volume</th>\n",
       "    </tr>\n",
       "    <tr>\n",
       "      <th>Date</th>\n",
       "      <th></th>\n",
       "      <th></th>\n",
       "      <th></th>\n",
       "      <th></th>\n",
       "      <th></th>\n",
       "    </tr>\n",
       "  </thead>\n",
       "  <tbody>\n",
       "    <tr>\n",
       "      <th>2021-03-05</th>\n",
       "      <td>31029.18</td>\n",
       "      <td>31580.33</td>\n",
       "      <td>30766.81</td>\n",
       "      <td>31496.30</td>\n",
       "      <td>576808196</td>\n",
       "    </tr>\n",
       "    <tr>\n",
       "      <th>2021-03-04</th>\n",
       "      <td>31289.01</td>\n",
       "      <td>31461.97</td>\n",
       "      <td>30547.53</td>\n",
       "      <td>30924.14</td>\n",
       "      <td>642847875</td>\n",
       "    </tr>\n",
       "    <tr>\n",
       "      <th>2021-03-03</th>\n",
       "      <td>31352.96</td>\n",
       "      <td>31563.31</td>\n",
       "      <td>31260.14</td>\n",
       "      <td>31270.09</td>\n",
       "      <td>483599269</td>\n",
       "    </tr>\n",
       "    <tr>\n",
       "      <th>2021-03-02</th>\n",
       "      <td>31535.37</td>\n",
       "      <td>31623.27</td>\n",
       "      <td>31377.16</td>\n",
       "      <td>31391.52</td>\n",
       "      <td>392040399</td>\n",
       "    </tr>\n",
       "    <tr>\n",
       "      <th>2021-03-01</th>\n",
       "      <td>31065.90</td>\n",
       "      <td>31668.34</td>\n",
       "      <td>31065.90</td>\n",
       "      <td>31535.51</td>\n",
       "      <td>448282523</td>\n",
       "    </tr>\n",
       "    <tr>\n",
       "      <th>...</th>\n",
       "      <td>...</td>\n",
       "      <td>...</td>\n",
       "      <td>...</td>\n",
       "      <td>...</td>\n",
       "      <td>...</td>\n",
       "    </tr>\n",
       "    <tr>\n",
       "      <th>2018-07-20</th>\n",
       "      <td>25041.14</td>\n",
       "      <td>25124.10</td>\n",
       "      <td>24986.35</td>\n",
       "      <td>25058.12</td>\n",
       "      <td>274084814</td>\n",
       "    </tr>\n",
       "    <tr>\n",
       "      <th>2018-07-19</th>\n",
       "      <td>25139.15</td>\n",
       "      <td>25154.17</td>\n",
       "      <td>25052.62</td>\n",
       "      <td>25064.50</td>\n",
       "      <td>285749714</td>\n",
       "    </tr>\n",
       "    <tr>\n",
       "      <th>2018-07-18</th>\n",
       "      <td>25133.79</td>\n",
       "      <td>25215.32</td>\n",
       "      <td>25101.12</td>\n",
       "      <td>25199.29</td>\n",
       "      <td>252926303</td>\n",
       "    </tr>\n",
       "    <tr>\n",
       "      <th>2018-07-17</th>\n",
       "      <td>25033.92</td>\n",
       "      <td>25155.39</td>\n",
       "      <td>24989.61</td>\n",
       "      <td>25119.89</td>\n",
       "      <td>250371741</td>\n",
       "    </tr>\n",
       "    <tr>\n",
       "      <th>2018-07-16</th>\n",
       "      <td>25025.58</td>\n",
       "      <td>25072.41</td>\n",
       "      <td>24979.64</td>\n",
       "      <td>25064.36</td>\n",
       "      <td>231261164</td>\n",
       "    </tr>\n",
       "  </tbody>\n",
       "</table>\n",
       "<p>665 rows × 5 columns</p>\n",
       "</div>"
      ],
      "text/plain": [
       "                Open      High       Low     Close     Volume\n",
       "Date                                                         \n",
       "2021-03-05  31029.18  31580.33  30766.81  31496.30  576808196\n",
       "2021-03-04  31289.01  31461.97  30547.53  30924.14  642847875\n",
       "2021-03-03  31352.96  31563.31  31260.14  31270.09  483599269\n",
       "2021-03-02  31535.37  31623.27  31377.16  31391.52  392040399\n",
       "2021-03-01  31065.90  31668.34  31065.90  31535.51  448282523\n",
       "...              ...       ...       ...       ...        ...\n",
       "2018-07-20  25041.14  25124.10  24986.35  25058.12  274084814\n",
       "2018-07-19  25139.15  25154.17  25052.62  25064.50  285749714\n",
       "2018-07-18  25133.79  25215.32  25101.12  25199.29  252926303\n",
       "2018-07-17  25033.92  25155.39  24989.61  25119.89  250371741\n",
       "2018-07-16  25025.58  25072.41  24979.64  25064.36  231261164\n",
       "\n",
       "[665 rows x 5 columns]"
      ]
     },
     "execution_count": 10,
     "metadata": {},
     "output_type": "execute_result"
    }
   ],
   "source": [
    "data.DataReader(\"^DJI\", 'stooq', start_date, end_date)"
   ]
  },
  {
   "cell_type": "code",
   "execution_count": 20,
   "id": "driven-method",
   "metadata": {},
   "outputs": [],
   "source": [
    "import configparser\n",
    "\n",
    "# Loading keys from config file\n",
    "config = configparser.ConfigParser()\n",
    "config.read_file(open('/home/venom/GitHub/cheatsheets/courses/Udemy/course12/notebooks/secret.cfg'))\n",
    "alpha_key = config.get('ALPHA_VANTAGE', 'NOT_OURS_KEY')\n",
    "quandl_key = config.get('QUANDL', 'KEY')\n"
   ]
  },
  {
   "cell_type": "code",
   "execution_count": null,
   "id": "durable-andrews",
   "metadata": {},
   "outputs": [],
   "source": []
  },
  {
   "cell_type": "markdown",
   "id": "parliamentary-flood",
   "metadata": {},
   "source": [
    "## AlphaVantage API"
   ]
  },
  {
   "cell_type": "code",
   "execution_count": 11,
   "id": "cooperative-border",
   "metadata": {},
   "outputs": [],
   "source": [
    "# Forex data "
   ]
  },
  {
   "cell_type": "code",
   "execution_count": 12,
   "id": "intensive-bouquet",
   "metadata": {},
   "outputs": [],
   "source": [
    "# GBP to USD "
   ]
  },
  {
   "cell_type": "code",
   "execution_count": 21,
   "id": "elementary-conjunction",
   "metadata": {},
   "outputs": [
    {
     "data": {
      "text/html": [
       "<div>\n",
       "<style scoped>\n",
       "    .dataframe tbody tr th:only-of-type {\n",
       "        vertical-align: middle;\n",
       "    }\n",
       "\n",
       "    .dataframe tbody tr th {\n",
       "        vertical-align: top;\n",
       "    }\n",
       "\n",
       "    .dataframe thead th {\n",
       "        text-align: right;\n",
       "    }\n",
       "</style>\n",
       "<table border=\"1\" class=\"dataframe\">\n",
       "  <thead>\n",
       "    <tr style=\"text-align: right;\">\n",
       "      <th></th>\n",
       "      <th>GBP/USD</th>\n",
       "    </tr>\n",
       "  </thead>\n",
       "  <tbody>\n",
       "    <tr>\n",
       "      <th>From_Currency Code</th>\n",
       "      <td>GBP</td>\n",
       "    </tr>\n",
       "    <tr>\n",
       "      <th>From_Currency Name</th>\n",
       "      <td>British Pound Sterling</td>\n",
       "    </tr>\n",
       "    <tr>\n",
       "      <th>To_Currency Code</th>\n",
       "      <td>USD</td>\n",
       "    </tr>\n",
       "    <tr>\n",
       "      <th>To_Currency Name</th>\n",
       "      <td>United States Dollar</td>\n",
       "    </tr>\n",
       "    <tr>\n",
       "      <th>Exchange Rate</th>\n",
       "      <td>1.38310000</td>\n",
       "    </tr>\n",
       "    <tr>\n",
       "      <th>Last Refreshed</th>\n",
       "      <td>2021-03-06 21:48:02</td>\n",
       "    </tr>\n",
       "    <tr>\n",
       "      <th>Time Zone</th>\n",
       "      <td>UTC</td>\n",
       "    </tr>\n",
       "    <tr>\n",
       "      <th>Bid Price</th>\n",
       "      <td>1.38310000</td>\n",
       "    </tr>\n",
       "    <tr>\n",
       "      <th>Ask Price</th>\n",
       "      <td>1.38310000</td>\n",
       "    </tr>\n",
       "  </tbody>\n",
       "</table>\n",
       "</div>"
      ],
      "text/plain": [
       "                                   GBP/USD\n",
       "From_Currency Code                     GBP\n",
       "From_Currency Name  British Pound Sterling\n",
       "To_Currency Code                       USD\n",
       "To_Currency Name      United States Dollar\n",
       "Exchange Rate                   1.38310000\n",
       "Last Refreshed         2021-03-06 21:48:02\n",
       "Time Zone                              UTC\n",
       "Bid Price                       1.38310000\n",
       "Ask Price                       1.38310000"
      ]
     },
     "execution_count": 21,
     "metadata": {},
     "output_type": "execute_result"
    }
   ],
   "source": [
    "data.DataReader(\"GBP/USD\", 'av-forex', start_date, end_date,api_key=alpha_key)  # This key is not ours "
   ]
  },
  {
   "cell_type": "code",
   "execution_count": null,
   "id": "interracial-ethics",
   "metadata": {},
   "outputs": [],
   "source": []
  },
  {
   "cell_type": "code",
   "execution_count": null,
   "id": "dietary-hebrew",
   "metadata": {},
   "outputs": [],
   "source": []
  },
  {
   "cell_type": "code",
   "execution_count": null,
   "id": "adult-penalty",
   "metadata": {},
   "outputs": [],
   "source": []
  },
  {
   "cell_type": "markdown",
   "id": "presidential-testimony",
   "metadata": {},
   "source": [
    "# Quandl"
   ]
  },
  {
   "cell_type": "code",
   "execution_count": 16,
   "id": "fuzzy-light",
   "metadata": {},
   "outputs": [],
   "source": [
    "import numpy as np\n",
    "import pandas as pd\n",
    "import plotly.graph_objects as go"
   ]
  },
  {
   "cell_type": "code",
   "execution_count": 18,
   "id": "detailed-brown",
   "metadata": {},
   "outputs": [],
   "source": [
    "import quandl"
   ]
  },
  {
   "cell_type": "code",
   "execution_count": 19,
   "id": "dutch-department",
   "metadata": {},
   "outputs": [],
   "source": []
  },
  {
   "cell_type": "code",
   "execution_count": 22,
   "id": "industrial-wonder",
   "metadata": {},
   "outputs": [],
   "source": [
    "# Contact with Quandl database \n",
    "quandl.ApiConfig.api_key = quandl_key"
   ]
  },
  {
   "cell_type": "markdown",
   "id": "elder-driver",
   "metadata": {},
   "source": [
    "## Query data"
   ]
  },
  {
   "cell_type": "code",
   "execution_count": null,
   "id": "interpreted-metallic",
   "metadata": {},
   "outputs": [],
   "source": []
  }
 ],
 "metadata": {
  "kernelspec": {
   "display_name": "Python 3",
   "language": "python",
   "name": "python3"
  },
  "language_info": {
   "codemirror_mode": {
    "name": "ipython",
    "version": 3
   },
   "file_extension": ".py",
   "mimetype": "text/x-python",
   "name": "python",
   "nbconvert_exporter": "python",
   "pygments_lexer": "ipython3",
   "version": "3.7.4"
  }
 },
 "nbformat": 4,
 "nbformat_minor": 5
}
