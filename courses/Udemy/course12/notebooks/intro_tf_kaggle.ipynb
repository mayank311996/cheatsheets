{
 "cells": [
  {
   "cell_type": "code",
   "execution_count": null,
   "id": "suffering-catch",
   "metadata": {},
   "outputs": [],
   "source": [
    "import tensorflow as tf"
   ]
  },
  {
   "cell_type": "code",
   "execution_count": null,
   "id": "mineral-teach",
   "metadata": {},
   "outputs": [],
   "source": [
    "model = tf.keras.sequential()"
   ]
  },
  {
   "cell_type": "code",
   "execution_count": null,
   "id": "adjacent-avenue",
   "metadata": {},
   "outputs": [],
   "source": [
    "model.add(\n",
    "    tf.keras.layers.Dense(32, input=(10,), activation='relu')\n",
    ")"
   ]
  },
  {
   "cell_type": "code",
   "execution_count": null,
   "id": "material-enough",
   "metadata": {},
   "outputs": [],
   "source": [
    "model.add(\n",
    "    tf.keras.layers.Dense(2, activation='softmax')\n",
    ")"
   ]
  },
  {
   "cell_type": "code",
   "execution_count": null,
   "id": "pharmaceutical-exclusive",
   "metadata": {},
   "outputs": [],
   "source": [
    "model.summary()"
   ]
  },
  {
   "cell_type": "code",
   "execution_count": null,
   "id": "noted-shield",
   "metadata": {},
   "outputs": [],
   "source": []
  },
  {
   "cell_type": "code",
   "execution_count": null,
   "id": "rolled-frost",
   "metadata": {},
   "outputs": [],
   "source": [
    "model = tf.keras.Sequential([\n",
    "    tf.keras.layers.Dense(32, input_shape=(10,), activation='relu'),\n",
    "    tf.keras.layers.Dense(2, activation='softmax')\n",
    "])"
   ]
  },
  {
   "cell_type": "code",
   "execution_count": null,
   "id": "surrounded-declaration",
   "metadata": {},
   "outputs": [],
   "source": [
    "model.summary()"
   ]
  },
  {
   "cell_type": "code",
   "execution_count": null,
   "id": "liable-first",
   "metadata": {},
   "outputs": [],
   "source": []
  },
  {
   "cell_type": "code",
   "execution_count": null,
   "id": "ranging-croatia",
   "metadata": {},
   "outputs": [],
   "source": [
    "input_tensor = tf.keras.layers.Input(shape=(10,), dtype='int32')\n",
    "x = tf.keras.layers.Dense(32, activation='relu')(input_tensor)\n",
    "y = tf.keras.layers.Dense(2, activation='softmax')(x)"
   ]
  },
  {
   "cell_type": "code",
   "execution_count": null,
   "id": "drawn-greeting",
   "metadata": {},
   "outputs": [],
   "source": [
    "model = tf.keras.Model(inputs=input_tensor, outputs=y)\n",
    "model.summary()"
   ]
  },
  {
   "cell_type": "code",
   "execution_count": null,
   "id": "fantastic-cornell",
   "metadata": {},
   "outputs": [],
   "source": []
  },
  {
   "cell_type": "code",
   "execution_count": null,
   "id": "joint-turning",
   "metadata": {},
   "outputs": [],
   "source": [
    "optimizer = tf.keras.optimizers.Adam(0.01)\n",
    "loss = tf.keras.losses.CategoricalCrossentropy()\n",
    "acc = tf.keras.metrics.CategoricalAccuracy('accuracy')\n",
    "model.compile(optimizer, loss=loss, metrics=[acc])"
   ]
  },
  {
   "cell_type": "code",
   "execution_count": null,
   "id": "based-jamaica",
   "metadata": {},
   "outputs": [],
   "source": []
  },
  {
   "cell_type": "code",
   "execution_count": null,
   "id": "caring-monaco",
   "metadata": {},
   "outputs": [],
   "source": [
    "inputs = [0, 1, 2, 3]\n",
    "labels = [1, 0, 1, 0]"
   ]
  },
  {
   "cell_type": "code",
   "execution_count": null,
   "id": "lesbian-swiss",
   "metadata": {},
   "outputs": [],
   "source": [
    "dataset = tf.data.Dataset.from_tensor_slices((inputs, labels))"
   ]
  },
  {
   "cell_type": "code",
   "execution_count": null,
   "id": "continuous-arthur",
   "metadata": {},
   "outputs": [],
   "source": [
    "for item in dataset:\n",
    "    print(item)"
   ]
  },
  {
   "cell_type": "code",
   "execution_count": null,
   "id": "complete-armenia",
   "metadata": {},
   "outputs": [],
   "source": []
  },
  {
   "cell_type": "code",
   "execution_count": null,
   "id": "smaller-syndication",
   "metadata": {},
   "outputs": [],
   "source": [
    "inputs = np.asarray(inputs)\n",
    "labels = np.asarray(labels)\n",
    "inputs"
   ]
  },
  {
   "cell_type": "code",
   "execution_count": null,
   "id": "charged-survival",
   "metadata": {},
   "outputs": [],
   "source": [
    "dataset = tf.data.Dataset.from_tensor_slices((inputs, labels))\n",
    "for item in dataset:\n",
    "    print(item)"
   ]
  },
  {
   "cell_type": "code",
   "execution_count": null,
   "id": "whole-destiny",
   "metadata": {},
   "outputs": [],
   "source": []
  },
  {
   "cell_type": "code",
   "execution_count": null,
   "id": "bronze-reducing",
   "metadata": {},
   "outputs": [],
   "source": [
    "df = pd.DataFrame({\n",
    "    'inputs': [0, 1, 2, 3],\n",
    "    'labels': [1, 0, 1, 0]\n",
    "})"
   ]
  },
  {
   "cell_type": "code",
   "execution_count": null,
   "id": "sunrise-raleigh",
   "metadata": {},
   "outputs": [],
   "source": [
    "df"
   ]
  },
  {
   "cell_type": "code",
   "execution_count": null,
   "id": "normal-mongolia",
   "metadata": {},
   "outputs": [],
   "source": [
    "df['inputs'].values"
   ]
  },
  {
   "cell_type": "code",
   "execution_count": null,
   "id": "aggressive-arthritis",
   "metadata": {},
   "outputs": [],
   "source": [
    "dataset = tf.data.Dataset.from_tensor_slices((df['inputs'].values, df['labels'].values))\n"
   ]
  },
  {
   "cell_type": "code",
   "execution_count": null,
   "id": "unlikely-melissa",
   "metadata": {},
   "outputs": [],
   "source": [
    "for item in dataset:\n",
    "    print(item)"
   ]
  },
  {
   "cell_type": "code",
   "execution_count": null,
   "id": "advisory-motor",
   "metadata": {},
   "outputs": [],
   "source": []
  },
  {
   "cell_type": "code",
   "execution_count": null,
   "id": "skilled-tracy",
   "metadata": {},
   "outputs": [],
   "source": [
    "dataset = tf.data.experimental.make_csv_dataset(\n",
    "    \"train.csv\",\n",
    "    batch_size=16,\n",
    "    field_delim=',',\n",
    "    select_columns=['PassengerId', 'Survived', \"Pclass\"],\n",
    "    label_name='Survived'\n",
    ")"
   ]
  },
  {
   "cell_type": "code",
   "execution_count": null,
   "id": "parliamentary-width",
   "metadata": {},
   "outputs": [],
   "source": [
    "for item in dataset.take(3):\n",
    "    print(item)"
   ]
  },
  {
   "cell_type": "code",
   "execution_count": null,
   "id": "western-status",
   "metadata": {},
   "outputs": [],
   "source": []
  },
  {
   "cell_type": "code",
   "execution_count": null,
   "id": "boxed-legislation",
   "metadata": {},
   "outputs": [],
   "source": [
    "data = pd.read_csv('train.csv')\n",
    "data.head()"
   ]
  },
  {
   "cell_type": "code",
   "execution_count": null,
   "id": "norman-collaboration",
   "metadata": {},
   "outputs": [],
   "source": [
    "dataset = tf.data.Dataset.from_tensor_slices((data[['Pclass', 'Age', 'Parch']].values, data['Survived'].values))"
   ]
  },
  {
   "cell_type": "code",
   "execution_count": null,
   "id": "behavioral-combining",
   "metadata": {},
   "outputs": [],
   "source": [
    "for item in dataset.take(1):\n",
    "    print(item)"
   ]
  },
  {
   "cell_type": "code",
   "execution_count": null,
   "id": "geological-outreach",
   "metadata": {},
   "outputs": [],
   "source": [
    "dataset = dataset.shuffle(10000).batch(16, drop_remained=True)"
   ]
  },
  {
   "cell_type": "code",
   "execution_count": null,
   "id": "closing-bowling",
   "metadata": {},
   "outputs": [],
   "source": []
  },
  {
   "cell_type": "code",
   "execution_count": null,
   "id": "bronze-functionality",
   "metadata": {},
   "outputs": [],
   "source": [
    "data = pd.read_csv('train.csv')\n",
    "data.head()"
   ]
  },
  {
   "cell_type": "code",
   "execution_count": null,
   "id": "reflected-netscape",
   "metadata": {},
   "outputs": [],
   "source": [
    "data['Embarked'].unique()"
   ]
  },
  {
   "cell_type": "code",
   "execution_count": null,
   "id": "eastern-company",
   "metadata": {},
   "outputs": [],
   "source": [
    "pclass_max = data['Pclass'].max()\n",
    "data['pclass_norm'] = data['Pclass'].apply(lambda x: x/pclass_max)"
   ]
  },
  {
   "cell_type": "code",
   "execution_count": null,
   "id": "dress-precipitation",
   "metadata": {},
   "outputs": [],
   "source": [
    "data[['Pclass', 'pclass_norm']]"
   ]
  },
  {
   "cell_type": "code",
   "execution_count": null,
   "id": "exciting-seven",
   "metadata": {},
   "outputs": [],
   "source": [
    "pclass_max = data['Age'].max()\n",
    "data['age_norm'] = data['Age'].apply(lambda x: x/pclass_max)"
   ]
  },
  {
   "cell_type": "code",
   "execution_count": null,
   "id": "reflected-tennis",
   "metadata": {},
   "outputs": [],
   "source": [
    "data['sex_norm'] = data['Sex'].apply(lambda x: 0 if x== 'male' else 1)"
   ]
  },
  {
   "cell_type": "code",
   "execution_count": null,
   "id": "suburban-hydrogen",
   "metadata": {},
   "outputs": [],
   "source": [
    "def embarked2num(x):\n",
    "    if x == 'S':\n",
    "        return 1.0\n",
    "    elif x == 'C':\n",
    "        return 2/3\n",
    "    elif x == 'Q':\n",
    "        return 1/3\n",
    "    else:\n",
    "        return 0.0\n",
    "    \n",
    "data['embarked_norm'] = data['Embarked'].apply(embarked2num)"
   ]
  },
  {
   "cell_type": "code",
   "execution_count": null,
   "id": "vertical-census",
   "metadata": {},
   "outputs": [],
   "source": [
    "inputs = data[['pclass_norm', 'sex_norm', 'age_norm', 'embarked_norm']].fillna(0).values\n",
    "inputs "
   ]
  },
  {
   "cell_type": "code",
   "execution_count": null,
   "id": "seeing-russia",
   "metadata": {},
   "outputs": [],
   "source": [
    "survived_arr = data['Survived'].values\n",
    "survived_arr"
   ]
  },
  {
   "cell_type": "code",
   "execution_count": null,
   "id": "least-argentina",
   "metadata": {},
   "outputs": [],
   "source": [
    "labels = np.zeros((survived_arr.size, survived_arr.max()+1))\n",
    "labels"
   ]
  },
  {
   "cell_type": "code",
   "execution_count": null,
   "id": "white-tennis",
   "metadata": {},
   "outputs": [],
   "source": [
    "labels[np.arange(survived_arr.size), survived_arr] = 1\n",
    "labels "
   ]
  },
  {
   "cell_type": "code",
   "execution_count": null,
   "id": "contrary-spider",
   "metadata": {},
   "outputs": [],
   "source": [
    "dataset = tf.data.Dataset.from_tensor_slices((inputs, labels))"
   ]
  },
  {
   "cell_type": "code",
   "execution_count": null,
   "id": "cross-idaho",
   "metadata": {},
   "outputs": [],
   "source": [
    "for item in dataset.take(1):\n",
    "    print(item)"
   ]
  },
  {
   "cell_type": "code",
   "execution_count": null,
   "id": "welsh-relationship",
   "metadata": {},
   "outputs": [],
   "source": [
    "dataset = dataset.shuffle(10000).batch(16, drop_remainder=True)"
   ]
  },
  {
   "cell_type": "code",
   "execution_count": null,
   "id": "mediterranean-turner",
   "metadata": {},
   "outputs": [],
   "source": [
    "model = tf.keras.Sequential([\n",
    "    tf.keras.layers.Dense(16, input_shape=(4,), activation='relu'),\n",
    "    tf.keras.layers.Dense(8, activation='relu'),\n",
    "    tf.keras.layers.Dense(2, activation='softmax')\n",
    "])"
   ]
  },
  {
   "cell_type": "code",
   "execution_count": null,
   "id": "arranged-leader",
   "metadata": {},
   "outputs": [],
   "source": [
    "model.summary()"
   ]
  },
  {
   "cell_type": "code",
   "execution_count": null,
   "id": "selected-search",
   "metadata": {},
   "outputs": [],
   "source": [
    "optimizer = tf.keras.optimizers.Adam(0.001)\n",
    "loss = tf.keras.losses.BinaryCrossentropy()\n",
    "acc = tf.keras.metrics.CategoricalAccuracy('accuracy')\n",
    "model.compile(optimizer, loss=loss, metrics=[acc])"
   ]
  },
  {
   "cell_type": "code",
   "execution_count": null,
   "id": "bulgarian-somerset",
   "metadata": {},
   "outputs": [],
   "source": [
    "history = model.fit(\n",
    "    dataset, epochs=50\n",
    ")"
   ]
  },
  {
   "cell_type": "code",
   "execution_count": null,
   "id": "accessory-avenue",
   "metadata": {},
   "outputs": [],
   "source": [
    "num_epochs = len(history.history['accuracy'])\n",
    "print(num_epochs)"
   ]
  },
  {
   "cell_type": "code",
   "execution_count": null,
   "id": "miniature-premium",
   "metadata": {},
   "outputs": [],
   "source": [
    "plt.plot(range(num_epochs), history.history['accuracy'])"
   ]
  },
  {
   "cell_type": "code",
   "execution_count": null,
   "id": "gentle-banks",
   "metadata": {},
   "outputs": [],
   "source": [
    "plt.plot(range(num_epochs), history.history['loss'])"
   ]
  },
  {
   "cell_type": "code",
   "execution_count": null,
   "id": "hybrid-proxy",
   "metadata": {},
   "outputs": [],
   "source": []
  },
  {
   "cell_type": "code",
   "execution_count": null,
   "id": "confused-progressive",
   "metadata": {},
   "outputs": [],
   "source": [
    "!pip install kaggle "
   ]
  },
  {
   "cell_type": "code",
   "execution_count": null,
   "id": "reverse-combat",
   "metadata": {},
   "outputs": [],
   "source": [
    "import kaggle "
   ]
  },
  {
   "cell_type": "code",
   "execution_count": null,
   "id": "assisted-property",
   "metadata": {},
   "outputs": [],
   "source": [
    "from kaggle.api.kaggle_api_extended import KaggleApi"
   ]
  },
  {
   "cell_type": "code",
   "execution_count": null,
   "id": "opposed-hawaiian",
   "metadata": {},
   "outputs": [],
   "source": [
    "api = KaggleApi()\n",
    "api.authenticate()"
   ]
  },
  {
   "cell_type": "code",
   "execution_count": null,
   "id": "minimal-fabric",
   "metadata": {},
   "outputs": [],
   "source": [
    "api.competition_download_file('sentiment-analysis-on-movie-reviews',\n",
    "                             'train.tsv.zip')"
   ]
  },
  {
   "cell_type": "code",
   "execution_count": null,
   "id": "dominant-junction",
   "metadata": {},
   "outputs": [],
   "source": [
    "import zipfile "
   ]
  },
  {
   "cell_type": "code",
   "execution_count": null,
   "id": "approved-facial",
   "metadata": {},
   "outputs": [],
   "source": [
    "with zipfile.ZipFile('train.tsv.zip', 'r') as zipref:\n",
    "    zipref.extractall()"
   ]
  },
  {
   "cell_type": "code",
   "execution_count": null,
   "id": "defined-intensity",
   "metadata": {},
   "outputs": [],
   "source": []
  },
  {
   "cell_type": "code",
   "execution_count": null,
   "id": "spread-narrow",
   "metadata": {},
   "outputs": [],
   "source": [
    "api.dataset_download_file('kazanova/sentiment140',\n",
    "                         file_name='training.1600000.processed.noemoticon.csv')"
   ]
  },
  {
   "cell_type": "code",
   "execution_count": null,
   "id": "black-preference",
   "metadata": {},
   "outputs": [],
   "source": []
  },
  {
   "cell_type": "code",
   "execution_count": null,
   "id": "offensive-class",
   "metadata": {},
   "outputs": [],
   "source": []
  },
  {
   "cell_type": "code",
   "execution_count": null,
   "id": "interracial-queue",
   "metadata": {},
   "outputs": [],
   "source": []
  },
  {
   "cell_type": "code",
   "execution_count": null,
   "id": "pleased-permission",
   "metadata": {},
   "outputs": [],
   "source": []
  },
  {
   "cell_type": "code",
   "execution_count": null,
   "id": "paperback-wrapping",
   "metadata": {},
   "outputs": [],
   "source": []
  }
 ],
 "metadata": {
  "kernelspec": {
   "display_name": "Python 3",
   "language": "python",
   "name": "python3"
  },
  "language_info": {
   "codemirror_mode": {
    "name": "ipython",
    "version": 3
   },
   "file_extension": ".py",
   "mimetype": "text/x-python",
   "name": "python",
   "nbconvert_exporter": "python",
   "pygments_lexer": "ipython3",
   "version": "3.7.4"
  }
 },
 "nbformat": 4,
 "nbformat_minor": 5
}
