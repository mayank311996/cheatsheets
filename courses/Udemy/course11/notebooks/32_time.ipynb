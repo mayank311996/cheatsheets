{
 "cells": [
  {
   "cell_type": "code",
   "execution_count": 1,
   "metadata": {},
   "outputs": [],
   "source": [
    "# python time module"
   ]
  },
  {
   "cell_type": "code",
   "execution_count": 2,
   "metadata": {},
   "outputs": [],
   "source": [
    "import time \n",
    "import numpy as np"
   ]
  },
  {
   "cell_type": "code",
   "execution_count": 3,
   "metadata": {},
   "outputs": [],
   "source": [
    "def fibonacci(n):\n",
    "   \"\"\"Recursive function to print nth Fibonacci number\"\"\"\n",
    "   if n <= 1:\n",
    "       return n\n",
    "   else:\n",
    "       return(fibonacci(n-1) + fibonacci(n-2))\n",
    "\n",
    "def main():\n",
    "    num = np.random.randint(1,25)\n",
    "    print(\"%dth fibonacci number is : %d\"%(num,fibonacci(num)))"
   ]
  },
  {
   "cell_type": "code",
   "execution_count": null,
   "metadata": {},
   "outputs": [
    {
     "name": "stdout",
     "output_type": "stream",
     "text": [
      "23th fibonacci number is : 28657\n",
      "14th fibonacci number is : 377\n",
      "22th fibonacci number is : 17711\n",
      "\n",
      "\n",
      "Keyboard exception received. Exiting.\n",
      "10th fibonacci number is : 55\n",
      "10th fibonacci number is : 55\n",
      "18th fibonacci number is : 2584\n",
      "\n",
      "\n",
      "Keyboard exception received. Exiting.\n",
      "9th fibonacci number is : 34\n",
      "\n",
      "\n",
      "Keyboard exception received. Exiting.\n",
      "24th fibonacci number is : 46368\n",
      "\n",
      "\n",
      "Keyboard exception received. Exiting.\n",
      "5th fibonacci number is : 5\n",
      "\n",
      "\n",
      "Keyboard exception received. Exiting.\n",
      "23th fibonacci number is : 28657\n",
      "\n",
      "\n",
      "Keyboard exception received. Exiting.\n",
      "24th fibonacci number is : 46368\n",
      "\n",
      "\n",
      "Keyboard exception received. Exiting.\n",
      "4th fibonacci number is : 3\n",
      "\n",
      "\n",
      "Keyboard exception received. Exiting.\n",
      "13th fibonacci number is : 233\n",
      "\n",
      "\n",
      "Keyboard exception received. Exiting.\n",
      "16th fibonacci number is : 987\n",
      "15th fibonacci number is : 610\n",
      "19th fibonacci number is : 4181\n",
      "6th fibonacci number is : 8\n",
      "\n",
      "\n",
      "Keyboard exception received. Exiting.\n",
      "3th fibonacci number is : 2\n",
      "17th fibonacci number is : 1597\n"
     ]
    }
   ],
   "source": [
    "# Continuous execution        \n",
    "starttime=time.time()\n",
    "timeout = time.time() + 60*2  # 60 seconds times 2 meaning the script will run for 2 minutes\n",
    "while time.time() <= timeout:\n",
    "    try:\n",
    "        main()\n",
    "        time.sleep(5 - ((time.time() - starttime) % 5.0)) # 5 second interval between each new iteration\n",
    "    except KeyboardInterrupt:\n",
    "        print('\\n\\nKeyboard exception received. Exiting.')\n",
    "        exit()"
   ]
  },
  {
   "cell_type": "code",
   "execution_count": null,
   "metadata": {},
   "outputs": [],
   "source": [
    "\n"
   ]
  }
 ],
 "metadata": {
  "kernelspec": {
   "display_name": "Python 3",
   "language": "python",
   "name": "python3"
  },
  "language_info": {
   "codemirror_mode": {
    "name": "ipython",
    "version": 3
   },
   "file_extension": ".py",
   "mimetype": "text/x-python",
   "name": "python",
   "nbconvert_exporter": "python",
   "pygments_lexer": "ipython3",
   "version": "3.7.4"
  }
 },
 "nbformat": 4,
 "nbformat_minor": 4
}
