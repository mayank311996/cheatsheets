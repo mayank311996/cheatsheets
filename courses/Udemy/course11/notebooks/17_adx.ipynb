{
 "cells": [
  {
   "cell_type": "code",
   "execution_count": 1,
   "metadata": {},
   "outputs": [],
   "source": [
    "# Import OHLCV data and calculate ATR and ADX technical indicators"
   ]
  },
  {
   "cell_type": "code",
   "execution_count": 2,
   "metadata": {},
   "outputs": [],
   "source": [
    "import yfinance as yf\n",
    "import pandas as pd\n",
    "import datetime as dt\n",
    "import numpy as np"
   ]
  },
  {
   "cell_type": "code",
   "execution_count": 3,
   "metadata": {},
   "outputs": [
    {
     "name": "stdout",
     "output_type": "stream",
     "text": [
      "[*********************100%***********************]  1 of 1 completed\n"
     ]
    }
   ],
   "source": [
    "# Download historical data for required stocks\n",
    "ticker = \"AAPL\"\n",
    "ohlcv = yf.download(ticker,dt.date.today()-dt.timedelta(1825),dt.datetime.today())"
   ]
  },
  {
   "cell_type": "code",
   "execution_count": 4,
   "metadata": {},
   "outputs": [],
   "source": [
    "def ATR(DF,n):\n",
    "    \"function to calculate True Range and Average True Range\"\n",
    "    df = DF.copy()\n",
    "    df['H-L']=abs(df['High']-df['Low'])\n",
    "    df['H-PC']=abs(df['High']-df['Adj Close'].shift(1))\n",
    "    df['L-PC']=abs(df['Low']-df['Adj Close'].shift(1))\n",
    "    df['TR']=df[['H-L','H-PC','L-PC']].max(axis=1,skipna=False)\n",
    "    df['ATR'] = df['TR'].rolling(n).mean()\n",
    "    #df['ATR'] = df['TR'].ewm(span=n,adjust=False,min_periods=n).mean()\n",
    "    df2 = df.drop(['H-L','H-PC','L-PC'],axis=1)\n",
    "    return df2"
   ]
  },
  {
   "cell_type": "code",
   "execution_count": 5,
   "metadata": {},
   "outputs": [],
   "source": [
    "def ADX(DF,n):\n",
    "    \"function to calculate ADX\"\n",
    "    df2 = DF.copy()\n",
    "    df2['TR'] = ATR(df2,n)['TR'] #the period parameter of ATR function does not matter because period does not influence TR calculation\n",
    "    df2['DMplus']=np.where((df2['High']-df2['High'].shift(1))>(df2['Low'].shift(1)-df2['Low']),df2['High']-df2['High'].shift(1),0)\n",
    "    df2['DMplus']=np.where(df2['DMplus']<0,0,df2['DMplus'])\n",
    "    df2['DMminus']=np.where((df2['Low'].shift(1)-df2['Low'])>(df2['High']-df2['High'].shift(1)),df2['Low'].shift(1)-df2['Low'],0)\n",
    "    df2['DMminus']=np.where(df2['DMminus']<0,0,df2['DMminus'])\n",
    "    TRn = []\n",
    "    DMplusN = []\n",
    "    DMminusN = []\n",
    "    TR = df2['TR'].tolist()\n",
    "    DMplus = df2['DMplus'].tolist()\n",
    "    DMminus = df2['DMminus'].tolist()\n",
    "    for i in range(len(df2)):\n",
    "        if i < n:\n",
    "            TRn.append(np.NaN)\n",
    "            DMplusN.append(np.NaN)\n",
    "            DMminusN.append(np.NaN)\n",
    "        elif i == n:\n",
    "            TRn.append(df2['TR'].rolling(n).sum().tolist()[n])\n",
    "            DMplusN.append(df2['DMplus'].rolling(n).sum().tolist()[n])\n",
    "            DMminusN.append(df2['DMminus'].rolling(n).sum().tolist()[n])\n",
    "        elif i > n:\n",
    "            TRn.append(TRn[i-1] - (TRn[i-1]/n) + TR[i])\n",
    "            DMplusN.append(DMplusN[i-1] - (DMplusN[i-1]/n) + DMplus[i])\n",
    "            DMminusN.append(DMminusN[i-1] - (DMminusN[i-1]/n) + DMminus[i])\n",
    "    df2['TRn'] = np.array(TRn)\n",
    "    df2['DMplusN'] = np.array(DMplusN)\n",
    "    df2['DMminusN'] = np.array(DMminusN)\n",
    "    df2['DIplusN']=100*(df2['DMplusN']/df2['TRn'])\n",
    "    df2['DIminusN']=100*(df2['DMminusN']/df2['TRn'])\n",
    "    df2['DIdiff']=abs(df2['DIplusN']-df2['DIminusN'])\n",
    "    df2['DIsum']=df2['DIplusN']+df2['DIminusN']\n",
    "    df2['DX']=100*(df2['DIdiff']/df2['DIsum'])\n",
    "    ADX = []\n",
    "    DX = df2['DX'].tolist()\n",
    "    for j in range(len(df2)):\n",
    "        if j < 2*n-1:\n",
    "            ADX.append(np.NaN)\n",
    "        elif j == 2*n-1:\n",
    "            ADX.append(df2['DX'][j-n+1:j+1].mean())\n",
    "        elif j > 2*n-1:\n",
    "            ADX.append(((n-1)*ADX[j-1] + DX[j])/n)\n",
    "    df2['ADX']=np.array(ADX)\n",
    "    return df2['ADX']"
   ]
  },
  {
   "cell_type": "code",
   "execution_count": 6,
   "metadata": {},
   "outputs": [],
   "source": [
    "# Remeber to covnert above function using numpy only and remove all loops and if else statements. Like we did in previous notebook. "
   ]
  },
  {
   "cell_type": "code",
   "execution_count": null,
   "metadata": {},
   "outputs": [],
   "source": []
  }
 ],
 "metadata": {
  "kernelspec": {
   "display_name": "Python 3",
   "language": "python",
   "name": "python3"
  },
  "language_info": {
   "codemirror_mode": {
    "name": "ipython",
    "version": 3
   },
   "file_extension": ".py",
   "mimetype": "text/x-python",
   "name": "python",
   "nbconvert_exporter": "python",
   "pygments_lexer": "ipython3",
   "version": "3.7.4"
  }
 },
 "nbformat": 4,
 "nbformat_minor": 4
}
