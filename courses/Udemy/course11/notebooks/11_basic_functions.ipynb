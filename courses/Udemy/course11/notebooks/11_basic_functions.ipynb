{
 "cells": [
  {
   "cell_type": "code",
   "execution_count": 1,
   "metadata": {},
   "outputs": [],
   "source": [
    "# Import OHLCV data and perform basic data operations\n"
   ]
  },
  {
   "cell_type": "code",
   "execution_count": 2,
   "metadata": {},
   "outputs": [],
   "source": [
    "import datetime as dt\n",
    "import yfinance as yf\n",
    "import pandas as pd"
   ]
  },
  {
   "cell_type": "code",
   "execution_count": 3,
   "metadata": {},
   "outputs": [],
   "source": [
    "tickers = [\"MSFT\", \"AMZN\", \"AAPL\", \"CSCO\", \"IBM\", \"FB\"]"
   ]
  },
  {
   "cell_type": "code",
   "execution_count": 4,
   "metadata": {},
   "outputs": [],
   "source": [
    "start = dt.datetime.today()-dt.timedelta(3650)\n",
    "end = dt.datetime.today()\n",
    "close_prices = pd.DataFrame() # empty dataframe which will be filled with closing prices of each stock"
   ]
  },
  {
   "cell_type": "code",
   "execution_count": 5,
   "metadata": {},
   "outputs": [
    {
     "name": "stdout",
     "output_type": "stream",
     "text": [
      "[*********************100%***********************]  1 of 1 completed\n",
      "[*********************100%***********************]  1 of 1 completed\n",
      "[*********************100%***********************]  1 of 1 completed\n",
      "[*********************100%***********************]  1 of 1 completed\n",
      "[*********************100%***********************]  1 of 1 completed\n",
      "[*********************100%***********************]  1 of 1 completed\n"
     ]
    }
   ],
   "source": [
    "# looping over tickers and creating a dataframe with close prices\n",
    "for ticker in tickers:\n",
    "    close_prices[ticker] = yf.download(ticker,start,end)[\"Adj Close\"]"
   ]
  },
  {
   "cell_type": "code",
   "execution_count": 6,
   "metadata": {},
   "outputs": [
    {
     "data": {
      "text/plain": [
       "MSFT     70.135023\n",
       "AMZN    947.503936\n",
       "AAPL     35.172290\n",
       "CSCO     27.510416\n",
       "IBM     130.290104\n",
       "FB      124.974315\n",
       "dtype: float64"
      ]
     },
     "execution_count": 6,
     "metadata": {},
     "output_type": "execute_result"
    }
   ],
   "source": [
    "close_prices.mean() # prints mean stock price for each stock"
   ]
  },
  {
   "cell_type": "code",
   "execution_count": 7,
   "metadata": {},
   "outputs": [
    {
     "data": {
      "text/plain": [
       "MSFT     47.626919\n",
       "AMZN    603.169983\n",
       "AAPL     26.401617\n",
       "CSCO     23.960371\n",
       "IBM     130.013199\n",
       "FB      121.769997\n",
       "dtype: float64"
      ]
     },
     "execution_count": 7,
     "metadata": {},
     "output_type": "execute_result"
    }
   ],
   "source": [
    "close_prices.median() # prints median stock price for each stock"
   ]
  },
  {
   "cell_type": "code",
   "execution_count": 8,
   "metadata": {},
   "outputs": [
    {
     "data": {
      "text/plain": [
       "MSFT     54.367397\n",
       "AMZN    836.345781\n",
       "AAPL     25.884437\n",
       "CSCO     12.016010\n",
       "IBM      11.894334\n",
       "FB       68.740323\n",
       "dtype: float64"
      ]
     },
     "execution_count": 8,
     "metadata": {},
     "output_type": "execute_result"
    }
   ],
   "source": [
    "close_prices.std() # prints standard deviation of stock price for each stock\n"
   ]
  },
  {
   "cell_type": "code",
   "execution_count": 9,
   "metadata": {},
   "outputs": [],
   "source": [
    "daily_return = close_prices.pct_change() # Creates dataframe with daily return for each stock"
   ]
  },
  {
   "cell_type": "code",
   "execution_count": 10,
   "metadata": {},
   "outputs": [
    {
     "data": {
      "text/html": [
       "<div>\n",
       "<style scoped>\n",
       "    .dataframe tbody tr th:only-of-type {\n",
       "        vertical-align: middle;\n",
       "    }\n",
       "\n",
       "    .dataframe tbody tr th {\n",
       "        vertical-align: top;\n",
       "    }\n",
       "\n",
       "    .dataframe thead th {\n",
       "        text-align: right;\n",
       "    }\n",
       "</style>\n",
       "<table border=\"1\" class=\"dataframe\">\n",
       "  <thead>\n",
       "    <tr style=\"text-align: right;\">\n",
       "      <th></th>\n",
       "      <th>MSFT</th>\n",
       "      <th>AMZN</th>\n",
       "      <th>AAPL</th>\n",
       "      <th>CSCO</th>\n",
       "      <th>IBM</th>\n",
       "      <th>FB</th>\n",
       "    </tr>\n",
       "    <tr>\n",
       "      <th>Date</th>\n",
       "      <th></th>\n",
       "      <th></th>\n",
       "      <th></th>\n",
       "      <th></th>\n",
       "      <th></th>\n",
       "      <th></th>\n",
       "    </tr>\n",
       "  </thead>\n",
       "  <tbody>\n",
       "    <tr>\n",
       "      <th>2011-01-25</th>\n",
       "      <td>NaN</td>\n",
       "      <td>NaN</td>\n",
       "      <td>NaN</td>\n",
       "      <td>NaN</td>\n",
       "      <td>NaN</td>\n",
       "      <td>NaN</td>\n",
       "    </tr>\n",
       "    <tr>\n",
       "      <th>2011-01-26</th>\n",
       "      <td>0.011599</td>\n",
       "      <td>-0.007414</td>\n",
       "      <td>0.007176</td>\n",
       "      <td>-0.005571</td>\n",
       "      <td>-0.002478</td>\n",
       "      <td>NaN</td>\n",
       "    </tr>\n",
       "    <tr>\n",
       "      <th>2011-01-27</th>\n",
       "      <td>0.003127</td>\n",
       "      <td>0.051656</td>\n",
       "      <td>-0.001861</td>\n",
       "      <td>0.000934</td>\n",
       "      <td>0.000186</td>\n",
       "      <td>NaN</td>\n",
       "    </tr>\n",
       "    <tr>\n",
       "      <th>2011-01-28</th>\n",
       "      <td>-0.038794</td>\n",
       "      <td>-0.072160</td>\n",
       "      <td>-0.020716</td>\n",
       "      <td>-0.023787</td>\n",
       "      <td>-0.011548</td>\n",
       "      <td>NaN</td>\n",
       "    </tr>\n",
       "    <tr>\n",
       "      <th>2011-01-31</th>\n",
       "      <td>-0.000721</td>\n",
       "      <td>-0.008765</td>\n",
       "      <td>0.009580</td>\n",
       "      <td>0.010511</td>\n",
       "      <td>0.017524</td>\n",
       "      <td>NaN</td>\n",
       "    </tr>\n",
       "    <tr>\n",
       "      <th>...</th>\n",
       "      <td>...</td>\n",
       "      <td>...</td>\n",
       "      <td>...</td>\n",
       "      <td>...</td>\n",
       "      <td>...</td>\n",
       "      <td>...</td>\n",
       "    </tr>\n",
       "    <tr>\n",
       "      <th>2021-01-14</th>\n",
       "      <td>-0.015346</td>\n",
       "      <td>-0.012136</td>\n",
       "      <td>-0.015127</td>\n",
       "      <td>-0.004630</td>\n",
       "      <td>0.016152</td>\n",
       "      <td>-0.023844</td>\n",
       "    </tr>\n",
       "    <tr>\n",
       "      <th>2021-01-15</th>\n",
       "      <td>-0.001737</td>\n",
       "      <td>-0.007425</td>\n",
       "      <td>-0.013731</td>\n",
       "      <td>0.006202</td>\n",
       "      <td>-0.004497</td>\n",
       "      <td>0.023286</td>\n",
       "    </tr>\n",
       "    <tr>\n",
       "      <th>2021-01-19</th>\n",
       "      <td>0.017823</td>\n",
       "      <td>0.005319</td>\n",
       "      <td>0.005427</td>\n",
       "      <td>-0.005283</td>\n",
       "      <td>0.004907</td>\n",
       "      <td>0.038749</td>\n",
       "    </tr>\n",
       "    <tr>\n",
       "      <th>2021-01-20</th>\n",
       "      <td>0.036500</td>\n",
       "      <td>0.045700</td>\n",
       "      <td>0.032856</td>\n",
       "      <td>0.003319</td>\n",
       "      <td>0.008216</td>\n",
       "      <td>0.024435</td>\n",
       "    </tr>\n",
       "    <tr>\n",
       "      <th>2021-01-21</th>\n",
       "      <td>0.002808</td>\n",
       "      <td>0.013363</td>\n",
       "      <td>0.036658</td>\n",
       "      <td>-0.005073</td>\n",
       "      <td>0.012069</td>\n",
       "      <td>0.020151</td>\n",
       "    </tr>\n",
       "  </tbody>\n",
       "</table>\n",
       "<p>2515 rows × 6 columns</p>\n",
       "</div>"
      ],
      "text/plain": [
       "                MSFT      AMZN      AAPL      CSCO       IBM        FB\n",
       "Date                                                                  \n",
       "2011-01-25       NaN       NaN       NaN       NaN       NaN       NaN\n",
       "2011-01-26  0.011599 -0.007414  0.007176 -0.005571 -0.002478       NaN\n",
       "2011-01-27  0.003127  0.051656 -0.001861  0.000934  0.000186       NaN\n",
       "2011-01-28 -0.038794 -0.072160 -0.020716 -0.023787 -0.011548       NaN\n",
       "2011-01-31 -0.000721 -0.008765  0.009580  0.010511  0.017524       NaN\n",
       "...              ...       ...       ...       ...       ...       ...\n",
       "2021-01-14 -0.015346 -0.012136 -0.015127 -0.004630  0.016152 -0.023844\n",
       "2021-01-15 -0.001737 -0.007425 -0.013731  0.006202 -0.004497  0.023286\n",
       "2021-01-19  0.017823  0.005319  0.005427 -0.005283  0.004907  0.038749\n",
       "2021-01-20  0.036500  0.045700  0.032856  0.003319  0.008216  0.024435\n",
       "2021-01-21  0.002808  0.013363  0.036658 -0.005073  0.012069  0.020151\n",
       "\n",
       "[2515 rows x 6 columns]"
      ]
     },
     "execution_count": 10,
     "metadata": {},
     "output_type": "execute_result"
    }
   ],
   "source": [
    "daily_return"
   ]
  },
  {
   "cell_type": "code",
   "execution_count": 11,
   "metadata": {},
   "outputs": [
    {
     "data": {
      "text/plain": [
       "MSFT    0.001046\n",
       "AMZN    0.001364\n",
       "AAPL    0.001183\n",
       "CSCO    0.000551\n",
       "IBM     0.000159\n",
       "FB      0.001176\n",
       "dtype: float64"
      ]
     },
     "execution_count": 11,
     "metadata": {},
     "output_type": "execute_result"
    }
   ],
   "source": [
    "daily_return.mean() # prints mean daily return for each stock"
   ]
  },
  {
   "cell_type": "code",
   "execution_count": 12,
   "metadata": {},
   "outputs": [
    {
     "data": {
      "text/plain": [
       "MSFT    0.016226\n",
       "AMZN    0.019959\n",
       "AAPL    0.017974\n",
       "CSCO    0.016801\n",
       "IBM     0.014352\n",
       "FB      0.023577\n",
       "dtype: float64"
      ]
     },
     "execution_count": 12,
     "metadata": {},
     "output_type": "execute_result"
    }
   ],
   "source": [
    "daily_return.std() # prints standard deviation of daily returns for each stock"
   ]
  },
  {
   "cell_type": "code",
   "execution_count": null,
   "metadata": {},
   "outputs": [],
   "source": []
  }
 ],
 "metadata": {
  "kernelspec": {
   "display_name": "Python 3",
   "language": "python",
   "name": "python3"
  },
  "language_info": {
   "codemirror_mode": {
    "name": "ipython",
    "version": 3
   },
   "file_extension": ".py",
   "mimetype": "text/x-python",
   "name": "python",
   "nbconvert_exporter": "python",
   "pygments_lexer": "ipython3",
   "version": "3.7.4"
  }
 },
 "nbformat": 4,
 "nbformat_minor": 4
}
