{
 "cells": [
  {
   "cell_type": "code",
   "execution_count": 1,
   "metadata": {},
   "outputs": [],
   "source": [
    "import pandas as pd \n",
    "import numpy as np\n",
    "import yfinance as yf\n",
    "import datetime as dt"
   ]
  },
  {
   "cell_type": "code",
   "execution_count": 2,
   "metadata": {},
   "outputs": [
    {
     "name": "stdout",
     "output_type": "stream",
     "text": [
      "[*********************100%***********************]  1 of 1 completed\n"
     ]
    }
   ],
   "source": [
    "# Download historical data for required stocks\n",
    "ticker = \"AAPL\"\n",
    "ohlcv = yf.download(ticker,dt.date.today()-dt.timedelta(1825),dt.datetime.today())"
   ]
  },
  {
   "cell_type": "code",
   "execution_count": 3,
   "metadata": {},
   "outputs": [],
   "source": [
    "def RSI(DF,n):\n",
    "    \"function to calculate RSI\"\n",
    "    df = DF.copy()\n",
    "    df['delta']=df['Adj Close'] - df['Adj Close'].shift(1)\n",
    "    df['gain']=np.where(df['delta']>=0,df['delta'],0)\n",
    "    df['loss']=np.where(df['delta']<0,abs(df['delta']),0)\n",
    "    avg_gain = []\n",
    "    avg_loss = []\n",
    "    gain = df['gain'].tolist()\n",
    "    loss = df['loss'].tolist()\n",
    "    for i in range(len(df)):\n",
    "        if i < n:\n",
    "            avg_gain.append(np.NaN)\n",
    "            avg_loss.append(np.NaN)\n",
    "        elif i == n:\n",
    "            avg_gain.append(df['gain'].rolling(n).mean().tolist()[n])\n",
    "            avg_loss.append(df['loss'].rolling(n).mean().tolist()[n])\n",
    "        elif i > n:\n",
    "            avg_gain.append(((n-1)*avg_gain[i-1] + gain[i])/n) # I think this is also known as smooth averaging \n",
    "            avg_loss.append(((n-1)*avg_loss[i-1] + loss[i])/n)\n",
    "    df['avg_gain']=np.array(avg_gain)\n",
    "    df['avg_loss']=np.array(avg_loss)\n",
    "    df['RS'] = df['avg_gain']/df['avg_loss']\n",
    "    df['RSI'] = 100 - (100/(1+df['RS']))\n",
    "    return df['RSI']"
   ]
  },
  {
   "cell_type": "code",
   "execution_count": 4,
   "metadata": {},
   "outputs": [],
   "source": [
    "# Calculating RSI without using loop\n",
    "def rsi(df, n):\n",
    "    \"function to calculate RSI\"\n",
    "    delta = df[\"Adj Close\"].diff().dropna()\n",
    "    u = delta * 0\n",
    "    d = u.copy()\n",
    "    u[delta > 0] = delta[delta > 0]\n",
    "    d[delta < 0] = -delta[delta < 0]\n",
    "    u[u.index[n-1]] = np.mean( u[:n]) # first value is average of gains\n",
    "    u = u.drop(u.index[:(n-1)])\n",
    "    d[d.index[n-1]] = np.mean( d[:n]) # first value is average of losses\n",
    "    d = d.drop(d.index[:(n-1)])\n",
    "    rs = u.ewm(com=n,min_periods=n).mean()/d.ewm(com=n,min_periods=n).mean()\n",
    "    return 100 - 100 / (1+rs)"
   ]
  },
  {
   "cell_type": "code",
   "execution_count": 5,
   "metadata": {},
   "outputs": [],
   "source": [
    "df = rsi(ohlcv, 10)"
   ]
  },
  {
   "cell_type": "code",
   "execution_count": 7,
   "metadata": {},
   "outputs": [
    {
     "data": {
      "text/plain": [
       "Date\n",
       "2016-02-08          NaN\n",
       "2016-02-09          NaN\n",
       "2016-02-10          NaN\n",
       "2016-02-11          NaN\n",
       "2016-02-12          NaN\n",
       "2016-02-16          NaN\n",
       "2016-02-17          NaN\n",
       "2016-02-18          NaN\n",
       "2016-02-19          NaN\n",
       "2016-02-22    59.262308\n",
       "2016-02-23    44.449804\n",
       "2016-02-24    52.804173\n",
       "2016-02-25    56.196406\n",
       "2016-02-26    56.969450\n",
       "2016-02-29    55.392154\n",
       "2016-03-01    70.875318\n",
       "2016-03-02    71.498769\n",
       "2016-03-03    73.616555\n",
       "2016-03-04    77.344834\n",
       "2016-03-07    69.221557\n",
       "2016-03-08    63.790993\n",
       "2016-03-09    64.122788\n",
       "2016-03-10    64.322474\n",
       "2016-03-11    68.524647\n",
       "2016-03-14    69.468130\n",
       "2016-03-15    75.792669\n",
       "2016-03-16    79.018532\n",
       "2016-03-17    77.626966\n",
       "2016-03-18    77.928773\n",
       "2016-03-21    77.832752\n",
       "2016-03-22    80.030412\n",
       "2016-03-23    74.140959\n",
       "2016-03-24    69.739469\n",
       "2016-03-28    65.290415\n",
       "2016-03-29    74.553566\n",
       "2016-03-30    79.170376\n",
       "2016-03-31    74.653284\n",
       "2016-04-01    77.167327\n",
       "2016-04-04    79.673483\n",
       "2016-04-05    69.891055\n",
       "2016-04-06    73.082474\n",
       "2016-04-07    58.683761\n",
       "2016-04-08    59.123038\n",
       "2016-04-11    60.508625\n",
       "2016-04-12    65.572180\n",
       "2016-04-13    70.293134\n",
       "2016-04-14    70.460187\n",
       "2016-04-15    57.191056\n",
       "2016-04-18    46.947049\n",
       "2016-04-19    44.822995\n",
       "Name: Adj Close, dtype: float64"
      ]
     },
     "execution_count": 7,
     "metadata": {},
     "output_type": "execute_result"
    }
   ],
   "source": [
    "df.head(50)"
   ]
  },
  {
   "cell_type": "code",
   "execution_count": 9,
   "metadata": {},
   "outputs": [],
   "source": [
    "df = RSI(ohlcv, 10)"
   ]
  },
  {
   "cell_type": "code",
   "execution_count": 10,
   "metadata": {},
   "outputs": [
    {
     "data": {
      "text/plain": [
       "Date\n",
       "2016-01-25          NaN\n",
       "2016-01-26          NaN\n",
       "2016-01-27          NaN\n",
       "2016-01-28          NaN\n",
       "2016-01-29          NaN\n",
       "2016-02-01          NaN\n",
       "2016-02-02          NaN\n",
       "2016-02-03          NaN\n",
       "2016-02-04          NaN\n",
       "2016-02-05          NaN\n",
       "2016-02-08    40.278711\n",
       "2016-02-09    40.234096\n",
       "2016-02-10    38.525819\n",
       "2016-02-11    37.138822\n",
       "2016-02-12    38.392700\n",
       "2016-02-16    48.768088\n",
       "2016-02-17    53.615663\n",
       "2016-02-18    47.358356\n",
       "2016-02-19    46.642948\n",
       "2016-02-22    49.856499\n",
       "2016-02-23    42.450368\n",
       "2016-02-24    47.978489\n",
       "2016-02-25    50.453953\n",
       "2016-02-26    51.042127\n",
       "2016-02-29    50.073317\n",
       "2016-03-01    63.507378\n",
       "2016-03-02    64.121930\n",
       "2016-03-03    66.273238\n",
       "2016-03-04    70.262281\n",
       "2016-03-07    63.920490\n",
       "2016-03-08    59.521868\n",
       "2016-03-09    59.850845\n",
       "2016-03-10    60.051160\n",
       "2016-03-11    64.359590\n",
       "2016-03-14    65.349931\n",
       "2016-03-15    72.160549\n",
       "2016-03-16    75.736095\n",
       "2016-03-17    74.437039\n",
       "2016-03-18    74.776372\n",
       "2016-03-21    74.684789\n",
       "2016-03-22    77.203625\n",
       "2016-03-23    71.449856\n",
       "2016-03-24    67.116635\n",
       "2016-03-28    62.707337\n",
       "2016-03-29    72.950020\n",
       "2016-03-30    78.015524\n",
       "2016-03-31    73.386077\n",
       "2016-04-01    76.145412\n",
       "2016-04-04    78.893165\n",
       "2016-04-05    68.700166\n",
       "Name: RSI, dtype: float64"
      ]
     },
     "execution_count": 10,
     "metadata": {},
     "output_type": "execute_result"
    }
   ],
   "source": [
    "df.head(50)"
   ]
  },
  {
   "cell_type": "code",
   "execution_count": null,
   "metadata": {},
   "outputs": [],
   "source": []
  }
 ],
 "metadata": {
  "kernelspec": {
   "display_name": "Python 3",
   "language": "python",
   "name": "python3"
  },
  "language_info": {
   "codemirror_mode": {
    "name": "ipython",
    "version": 3
   },
   "file_extension": ".py",
   "mimetype": "text/x-python",
   "name": "python",
   "nbconvert_exporter": "python",
   "pygments_lexer": "ipython3",
   "version": "3.7.4"
  }
 },
 "nbformat": 4,
 "nbformat_minor": 4
}
