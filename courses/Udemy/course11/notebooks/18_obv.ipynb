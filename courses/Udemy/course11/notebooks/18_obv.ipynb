{
 "cells": [
  {
   "cell_type": "code",
   "execution_count": 1,
   "metadata": {},
   "outputs": [],
   "source": [
    "import yfinance as yf\n",
    "import numpy as np\n",
    "import datetime as dt"
   ]
  },
  {
   "cell_type": "code",
   "execution_count": 2,
   "metadata": {},
   "outputs": [
    {
     "name": "stdout",
     "output_type": "stream",
     "text": [
      "[*********************100%***********************]  1 of 1 completed\n"
     ]
    }
   ],
   "source": [
    "# Download historical data for required stocks\n",
    "ticker = \"AAPL\"\n",
    "ohlcv = yf.download(ticker,dt.date.today()-dt.timedelta(1825),dt.datetime.today())"
   ]
  },
  {
   "cell_type": "code",
   "execution_count": 3,
   "metadata": {},
   "outputs": [],
   "source": [
    "def OBV(DF):\n",
    "    \"\"\"function to calculate On Balance Volume\"\"\"\n",
    "    df = DF.copy()\n",
    "    df['daily_ret'] = df['Adj Close'].pct_change()\n",
    "    df['direction'] = np.where(df['daily_ret']>=0,1,-1)\n",
    "    df['direction'][0] = 0\n",
    "    df['vol_adj'] = df['Volume'] * df['direction']\n",
    "    df['obv'] = df['vol_adj'].cumsum()\n",
    "    return df['obv']"
   ]
  },
  {
   "cell_type": "code",
   "execution_count": null,
   "metadata": {},
   "outputs": [],
   "source": []
  }
 ],
 "metadata": {
  "kernelspec": {
   "display_name": "Python 3",
   "language": "python",
   "name": "python3"
  },
  "language_info": {
   "codemirror_mode": {
    "name": "ipython",
    "version": 3
   },
   "file_extension": ".py",
   "mimetype": "text/x-python",
   "name": "python",
   "nbconvert_exporter": "python",
   "pygments_lexer": "ipython3",
   "version": "3.7.4"
  }
 },
 "nbformat": 4,
 "nbformat_minor": 4
}
