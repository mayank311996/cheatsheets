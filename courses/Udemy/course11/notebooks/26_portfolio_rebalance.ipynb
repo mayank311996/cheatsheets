{
 "cells": [
  {
   "cell_type": "code",
   "execution_count": 1,
   "metadata": {},
   "outputs": [],
   "source": [
    "# Backtesting strategy - I : Monthly portfolio rebalancing\n"
   ]
  },
  {
   "cell_type": "code",
   "execution_count": 2,
   "metadata": {},
   "outputs": [],
   "source": [
    "import numpy as np\n",
    "import pandas as pd \n",
    "import yfinance as yf\n",
    "import datetime as dt\n",
    "import copy\n",
    "import matplotlib.pyplot as plt"
   ]
  },
  {
   "cell_type": "code",
   "execution_count": 3,
   "metadata": {},
   "outputs": [],
   "source": [
    "def CAGR(DF):\n",
    "    \"function to calculate the Cumulative Annual Growth Rate of a trading strategy\"\n",
    "    df = DF.copy()\n",
    "    df[\"cum_return\"] = (1 + df[\"mon_ret\"]).cumprod()\n",
    "    n = len(df)/12 # 12 due to monthly return \n",
    "    CAGR = (df[\"cum_return\"].tolist()[-1])**(1/n) - 1\n",
    "    return CAGR\n",
    "\n",
    "def volatility(DF):\n",
    "    \"function to calculate annualized volatility of a trading strategy\"\n",
    "    df = DF.copy()\n",
    "    vol = df[\"mon_ret\"].std() * np.sqrt(12) # 12 due to monthly return\n",
    "    return vol\n",
    "\n",
    "def sharpe(DF,rf):\n",
    "    \"function to calculate sharpe ratio ; rf is the risk free rate\"\n",
    "    df = DF.copy()\n",
    "    sr = (CAGR(df) - rf)/volatility(df)\n",
    "    return sr\n",
    "    \n",
    "\n",
    "def max_dd(DF):\n",
    "    \"function to calculate max drawdown\"\n",
    "    df = DF.copy()\n",
    "    df[\"cum_return\"] = (1 + df[\"mon_ret\"]).cumprod()\n",
    "    df[\"cum_roll_max\"] = df[\"cum_return\"].cummax()\n",
    "    df[\"drawdown\"] = df[\"cum_roll_max\"] - df[\"cum_return\"]\n",
    "    df[\"drawdown_pct\"] = df[\"drawdown\"]/df[\"cum_roll_max\"]\n",
    "    max_dd = df[\"drawdown_pct\"].max()\n",
    "    return max_dd"
   ]
  },
  {
   "cell_type": "code",
   "execution_count": 4,
   "metadata": {},
   "outputs": [
    {
     "name": "stdout",
     "output_type": "stream",
     "text": [
      "[*********************100%***********************]  1 of 1 completed\n",
      "[*********************100%***********************]  1 of 1 completed\n",
      "[*********************100%***********************]  1 of 1 completed\n",
      "[*********************100%***********************]  1 of 1 completed\n",
      "[*********************100%***********************]  1 of 1 completed\n",
      "[*********************100%***********************]  1 of 1 completed\n",
      "[*********************100%***********************]  1 of 1 completed\n",
      "[*********************100%***********************]  1 of 1 completed\n",
      "[*********************100%***********************]  1 of 1 completed\n",
      "[*********************100%***********************]  1 of 1 completed\n",
      "[*********************100%***********************]  1 of 1 completed\n",
      "[*********************100%***********************]  1 of 1 completed\n",
      "[*********************100%***********************]  1 of 1 completed\n",
      "[*********************100%***********************]  1 of 1 completed\n",
      "[*********************100%***********************]  1 of 1 completed\n",
      "[*********************100%***********************]  1 of 1 completed\n",
      "[*********************100%***********************]  1 of 1 completed\n",
      "[*********************100%***********************]  1 of 1 completed\n",
      "[*********************100%***********************]  1 of 1 completed\n",
      "[*********************100%***********************]  1 of 1 completed\n",
      "[*********************100%***********************]  1 of 1 completed\n",
      "[*********************100%***********************]  1 of 1 completed\n",
      "[*********************100%***********************]  1 of 1 completed\n",
      "[*********************100%***********************]  1 of 1 completed\n",
      "\n",
      "1 Failed download:\n",
      "- UTX: No data found, symbol may be delisted\n",
      "[*********************100%***********************]  1 of 1 completed\n",
      "[*********************100%***********************]  1 of 1 completed\n",
      "[*********************100%***********************]  1 of 1 completed\n",
      "[*********************100%***********************]  1 of 1 completed\n",
      "[*********************100%***********************]  1 of 1 completed\n"
     ]
    }
   ],
   "source": [
    "# Download historical data (monthly) for DJI constituent stocks\n",
    "\n",
    "tickers = [\"MMM\",\"AXP\",\"T\",\"BA\",\"CAT\",\"CVX\",\"CSCO\",\"KO\", \"XOM\",\"GE\",\"GS\",\"HD\",\n",
    "           \"IBM\",\"INTC\",\"JNJ\",\"JPM\",\"MCD\",\"MRK\",\"MSFT\",\"NKE\",\"PFE\",\"PG\",\"TRV\",\n",
    "           \"UTX\",\"UNH\",\"VZ\",\"V\",\"WMT\",\"DIS\"]\n",
    "\n",
    "ohlc_mon = {} # directory with ohlc value for each stock            \n",
    "start = dt.datetime.today()-dt.timedelta(3650)\n",
    "end = dt.datetime.today()\n",
    "\n",
    "# looping over tickers and creating a dataframe with close prices\n",
    "for ticker in tickers:\n",
    "    ohlc_mon[ticker] = yf.download(ticker,start,end,interval='1mo')\n",
    "    ohlc_mon[ticker].dropna(inplace=True,how=\"all\")\n",
    " \n",
    "tickers = ohlc_mon.keys() # redefine tickers variable after removing any tickers with corrupted data"
   ]
  },
  {
   "cell_type": "code",
   "execution_count": 5,
   "metadata": {},
   "outputs": [
    {
     "data": {
      "text/plain": [
       "dict_keys(['MMM', 'AXP', 'T', 'BA', 'CAT', 'CVX', 'CSCO', 'KO', 'XOM', 'GE', 'GS', 'HD', 'IBM', 'INTC', 'JNJ', 'JPM', 'MCD', 'MRK', 'MSFT', 'NKE', 'PFE', 'PG', 'TRV', 'UTX', 'UNH', 'VZ', 'V', 'WMT', 'DIS'])"
      ]
     },
     "execution_count": 5,
     "metadata": {},
     "output_type": "execute_result"
    }
   ],
   "source": [
    "tickers "
   ]
  },
  {
   "cell_type": "code",
   "execution_count": 7,
   "metadata": {},
   "outputs": [],
   "source": [
    "#ohlc_mon"
   ]
  },
  {
   "cell_type": "code",
   "execution_count": 12,
   "metadata": {},
   "outputs": [
    {
     "name": "stdout",
     "output_type": "stream",
     "text": [
      "calculating monthly return for  MMM\n",
      "calculating monthly return for  AXP\n",
      "calculating monthly return for  T\n",
      "calculating monthly return for  BA\n",
      "calculating monthly return for  CAT\n",
      "calculating monthly return for  CVX\n",
      "calculating monthly return for  CSCO\n",
      "calculating monthly return for  KO\n",
      "calculating monthly return for  XOM\n",
      "calculating monthly return for  GE\n",
      "calculating monthly return for  GS\n",
      "calculating monthly return for  HD\n",
      "calculating monthly return for  IBM\n",
      "calculating monthly return for  INTC\n",
      "calculating monthly return for  JNJ\n",
      "calculating monthly return for  JPM\n",
      "calculating monthly return for  MCD\n",
      "calculating monthly return for  MRK\n",
      "calculating monthly return for  MSFT\n",
      "calculating monthly return for  NKE\n",
      "calculating monthly return for  PFE\n",
      "calculating monthly return for  PG\n",
      "calculating monthly return for  TRV\n",
      "calculating monthly return for  UTX\n",
      "calculating monthly return for  UNH\n",
      "calculating monthly return for  VZ\n",
      "calculating monthly return for  V\n",
      "calculating monthly return for  WMT\n",
      "calculating monthly return for  DIS\n"
     ]
    }
   ],
   "source": [
    "################################Backtesting####################################\n",
    "\n",
    "# calculating monthly return for each stock and consolidating return info by stock in a separate dataframe\n",
    "ohlc_dict = copy.deepcopy(ohlc_mon)\n",
    "return_df = pd.DataFrame()\n",
    "for ticker in tickers:\n",
    "    print(\"calculating monthly return for \",ticker)\n",
    "    ohlc_dict[ticker][\"mon_ret\"] = ohlc_dict[ticker][\"Adj Close\"].pct_change()\n",
    "    return_df[ticker] = ohlc_dict[ticker][\"mon_ret\"]\n",
    "\n",
    "\n",
    "# function to calculate portfolio return iteratively\n",
    "def pflio(DF,m,x):\n",
    "    \"\"\"Returns cumulative portfolio return\n",
    "    DF = dataframe with monthly return info for all stocks\n",
    "    m = number of stock in the portfolio\n",
    "    x = number of underperforming stocks to be removed from portfolio monthly\"\"\"\n",
    "    df = DF.copy()\n",
    "    portfolio = []\n",
    "    monthly_ret = [0]\n",
    "    for i in range(1,len(df)):\n",
    "        if len(portfolio) > 0:\n",
    "            monthly_ret.append(df[portfolio].iloc[i,:].mean())\n",
    "            bad_stocks = df[portfolio].iloc[i,:].sort_values(ascending=True)[:x].index.values.tolist()\n",
    "            portfolio = [t for t in portfolio if t not in bad_stocks]\n",
    "        fill = m - len(portfolio)\n",
    "        new_picks = df.iloc[i,:].sort_values(ascending=False)[:fill].index.values.tolist() # over here you can choose to exclude stock that \n",
    "        # are already in portfolio. Check video\n",
    "        portfolio = portfolio + new_picks\n",
    "        # print(portfolio)\n",
    "    monthly_ret_df = pd.DataFrame(np.array(monthly_ret),columns=[\"mon_ret\"])\n",
    "    return monthly_ret_df\n"
   ]
  },
  {
   "cell_type": "code",
   "execution_count": 14,
   "metadata": {},
   "outputs": [
    {
     "name": "stdout",
     "output_type": "stream",
     "text": [
      "0.14953937386414773\n",
      "0.9314472734257855\n",
      "0.2190948117553752\n"
     ]
    }
   ],
   "source": [
    "#calculating overall strategy's KPIs\n",
    "print(CAGR(pflio(return_df,6,3)))\n",
    "print(sharpe(pflio(return_df,6,3),0.025))\n",
    "print(max_dd(pflio(return_df,6,3))) \n",
    "# Try checking again by excluding stocks that are already in portfolio as mentioned in a comment in the above cell"
   ]
  },
  {
   "cell_type": "code",
   "execution_count": 18,
   "metadata": {},
   "outputs": [
    {
     "name": "stdout",
     "output_type": "stream",
     "text": [
      "[*********************100%***********************]  1 of 1 completed\n",
      "0.09665087478546264\n",
      "0.5277767104463278\n",
      "0.23201266165063417\n"
     ]
    }
   ],
   "source": [
    "#calculating KPIs for Index buy and hold strategy over the same period\n",
    "DJI = yf.download(\"^DJI\",dt.date.today()-dt.timedelta(3650),dt.date.today(),interval='1mo')\n",
    "DJI[\"mon_ret\"] = DJI[\"Adj Close\"].pct_change()\n",
    "print(CAGR(DJI))\n",
    "print(sharpe(DJI,0.025))\n",
    "print(max_dd(DJI))"
   ]
  },
  {
   "cell_type": "code",
   "execution_count": 19,
   "metadata": {},
   "outputs": [
    {
     "data": {
      "text/plain": [
       "<matplotlib.legend.Legend at 0x7f4abc13b490>"
      ]
     },
     "execution_count": 19,
     "metadata": {},
     "output_type": "execute_result"
    },
    {
     "data": {
      "image/png": "[encoded data removed]",
      "text/plain": [
       "<Figure size 432x288 with 1 Axes>"
      ]
     },
     "metadata": {
      "needs_background": "light"
     },
     "output_type": "display_data"
    }
   ],
   "source": [
    "#visualization\n",
    "fig, ax = plt.subplots()\n",
    "plt.plot((1+pflio(return_df,6,3)).cumprod())\n",
    "plt.plot((1+DJI[\"mon_ret\"][2:].reset_index(drop=True)).cumprod())\n",
    "plt.title(\"Index Return vs Strategy Return\")\n",
    "plt.ylabel(\"cumulative return\")\n",
    "plt.xlabel(\"months\")\n",
    "ax.legend([\"Strategy Return\",\"Index Return\"])"
   ]
  },
  {
   "cell_type": "code",
   "execution_count": null,
   "metadata": {},
   "outputs": [],
   "source": []
  }
 ],
 "metadata": {
  "kernelspec": {
   "display_name": "Python 3",
   "language": "python",
   "name": "python3"
  },
  "language_info": {
   "codemirror_mode": {
    "name": "ipython",
    "version": 3
   },
   "file_extension": ".py",
   "mimetype": "text/x-python",
   "name": "python",
   "nbconvert_exporter": "python",
   "pygments_lexer": "ipython3",
   "version": "3.7.4"
  }
 },
 "nbformat": 4,
 "nbformat_minor": 4
}
