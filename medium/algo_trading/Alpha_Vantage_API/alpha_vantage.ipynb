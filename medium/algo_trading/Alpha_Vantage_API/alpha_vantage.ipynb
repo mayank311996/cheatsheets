{
 "cells": [
  {
   "cell_type": "code",
   "execution_count": 1,
   "id": "favorite-delivery",
   "metadata": {},
   "outputs": [],
   "source": [
    "import configparser\n",
    "\n",
    "# Loading keys from config file\n",
    "config = configparser.ConfigParser()\n",
    "config.read_file(open('/home/venom/GitHub/cheatsheets/medium/algo_trading/Alpha_Vantage_API/secret.cfg'))\n",
    "api_key = config.get('ALPHA_VANTAGE', 'API_KEY')"
   ]
  },
  {
   "cell_type": "code",
   "execution_count": null,
   "id": "specified-fancy",
   "metadata": {},
   "outputs": [],
   "source": []
  }
 ],
 "metadata": {
  "kernelspec": {
   "display_name": "Python 3",
   "language": "python",
   "name": "python3"
  },
  "language_info": {
   "codemirror_mode": {
    "name": "ipython",
    "version": 3
   },
   "file_extension": ".py",
   "mimetype": "text/x-python",
   "name": "python",
   "nbconvert_exporter": "python",
   "pygments_lexer": "ipython3",
   "version": "3.7.4"
  }
 },
 "nbformat": 4,
 "nbformat_minor": 5
}
