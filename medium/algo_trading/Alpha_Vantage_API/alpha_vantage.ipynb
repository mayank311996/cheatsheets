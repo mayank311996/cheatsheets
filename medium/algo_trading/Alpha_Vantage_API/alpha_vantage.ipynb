{
 "cells": [
  {
   "cell_type": "code",
   "execution_count": 1,
   "id": "korean-victim",
   "metadata": {},
   "outputs": [],
   "source": [
    "import configparser\n",
    "\n",
    "# Loading keys from config file\n",
    "config = configparser.ConfigParser()\n",
    "config.read_file(open('/home/venom/GitHub/cheatsheets/medium/algo_trading/Alpha_Vantage_API/secret.cfg'))\n",
    "api_key = config.get('ALPHA_VANTAGE', 'API_KEY')"
   ]
  },
  {
   "cell_type": "code",
   "execution_count": 2,
   "id": "authorized-consistency",
   "metadata": {},
   "outputs": [],
   "source": [
    "from alpha_vantage.timeseries import TimeSeries\n",
    "app = TimeSeries(api_key)"
   ]
  },
  {
   "cell_type": "code",
   "execution_count": 3,
   "id": "pleasant-upgrade",
   "metadata": {},
   "outputs": [
    {
     "name": "stdout",
     "output_type": "stream",
     "text": [
      "Help on TimeSeries in module alpha_vantage.timeseries object:\n",
      "\n",
      "class TimeSeries(alpha_vantage.alphavantage.AlphaVantage)\n",
      " |  TimeSeries(key=None, output_format='json', treat_info_as_error=True, indexing_type='date', proxy=None, rapidapi=False)\n",
      " |  \n",
      " |  This class implements all the api calls to times series\n",
      " |  \n",
      " |  Method resolution order:\n",
      " |      TimeSeries\n",
      " |      alpha_vantage.alphavantage.AlphaVantage\n",
      " |      builtins.object\n",
      " |  \n",
      " |  Methods defined here:\n",
      " |  \n",
      " |  get_daily(self, symbol, outputsize='compact')\n",
      " |      Return daily time series in two json objects as data and\n",
      " |      meta_data. It raises ValueError when problems arise\n",
      " |      \n",
      " |      Keyword Arguments:\n",
      " |          symbol:  the symbol for the equity we want to get its data\n",
      " |          outputsize:  The size of the call, supported values are\n",
      " |              'compact' and 'full; the first returns the last 100 points in the\n",
      " |              data series, and 'full' returns the full-length daily times\n",
      " |              series, commonly above 1MB (default 'compact')\n",
      " |  \n",
      " |  get_daily_adjusted(self, symbol, outputsize='compact')\n",
      " |      Return daily adjusted (date, daily open, daily high, daily low,\n",
      " |      daily close, daily split/dividend-adjusted close, daily volume)\n",
      " |      time series in two json objects as data and\n",
      " |      meta_data. It raises ValueError when problems arise\n",
      " |      \n",
      " |      Keyword Arguments:\n",
      " |          symbol:  the symbol for the equity we want to get its data\n",
      " |          outputsize:  The size of the call, supported values are\n",
      " |              'compact' and 'full; the first returns the last 100 points in the\n",
      " |              data series, and 'full' returns the full-length daily times\n",
      " |              series, commonly above 1MB (default 'compact')\n",
      " |  \n",
      " |  get_intraday(self, symbol, interval='15min', outputsize='compact')\n",
      " |      Return intraday time series in two json objects as data and\n",
      " |      meta_data. It raises ValueError when problems arise\n",
      " |      \n",
      " |      Keyword Arguments:\n",
      " |          symbol:  the symbol for the equity we want to get its data\n",
      " |          interval:  time interval between two conscutive values,\n",
      " |              supported values are '1min', '5min', '15min', '30min', '60min'\n",
      " |              (default '15min')\n",
      " |          outputsize:  The size of the call, supported values are\n",
      " |              'compact' and 'full; the first returns the last 100 points in the\n",
      " |              data series, and 'full' returns the full-length intraday times\n",
      " |              series, commonly above 1MB (default 'compact')\n",
      " |  \n",
      " |  get_intraday_extended(self, symbol, interval='15min', slice='year1month1')\n",
      " |      Return extended intraday time series in one csv_reader object.\n",
      " |      It raises ValueError when problems arise\n",
      " |      \n",
      " |      Keyword Arguments:\n",
      " |          symbol:  the symbol for the equity we want to get its data\n",
      " |          interval:  time interval between two conscutive values,\n",
      " |              supported values are '1min', '5min', '15min', '30min', '60min'\n",
      " |              (default '15min')\n",
      " |          slice: the trailing 2 years of intraday data is evenly divided into\n",
      " |              24 \"slices\" - year1month1, year1month2, ..., year2month12\n",
      " |  \n",
      " |  get_monthly(self, symbol)\n",
      " |      Return monthly time series in two json objects as data and\n",
      " |      meta_data. It raises ValueError when problems arise\n",
      " |      \n",
      " |      Keyword Arguments:\n",
      " |          symbol:  the symbol for the equity we want to get its data\n",
      " |  \n",
      " |  get_monthly_adjusted(self, symbol)\n",
      " |      Return monthly time series in two json objects as data and\n",
      " |      meta_data. It raises ValueError when problems arise\n",
      " |      \n",
      " |      Keyword Arguments:\n",
      " |          symbol:  the symbol for the equity we want to get its data\n",
      " |  \n",
      " |  get_quote_endpoint(self, symbol)\n",
      " |      Return the latest price and volume information for a\n",
      " |       security of your choice\n",
      " |      \n",
      " |      Keyword Arguments:\n",
      " |          symbol:  the symbol for the equity we want to get its data\n",
      " |  \n",
      " |  get_symbol_search(self, keywords)\n",
      " |      Return best matching symbols and market information\n",
      " |      based on keywords. It raises ValueError when problems arise\n",
      " |      \n",
      " |      Keyword Arguments:\n",
      " |          keywords: the keywords to query on\n",
      " |  \n",
      " |  get_weekly(self, symbol)\n",
      " |      Return weekly time series in two json objects as data and\n",
      " |      meta_data. It raises ValueError when problems arise\n",
      " |      \n",
      " |      Keyword Arguments:\n",
      " |          symbol:  the symbol for the equity we want to get its data\n",
      " |  \n",
      " |  get_weekly_adjusted(self, symbol)\n",
      " |      weekly adjusted time series (last trading day of each week,\n",
      " |      weekly open, weekly high, weekly low, weekly close, weekly adjusted\n",
      " |      close, weekly volume, weekly dividend) of the equity specified,\n",
      " |      covering up to 20 years of historical data.\n",
      " |      Keyword Arguments:\n",
      " |          symbol:  the symbol for the equity we want to get its data\n",
      " |  \n",
      " |  ----------------------------------------------------------------------\n",
      " |  Methods inherited from alpha_vantage.alphavantage.AlphaVantage:\n",
      " |  \n",
      " |  __init__(self, key=None, output_format='json', treat_info_as_error=True, indexing_type='date', proxy=None, rapidapi=False)\n",
      " |      Initialize the class\n",
      " |      \n",
      " |      Keyword Arguments:\n",
      " |          key:  Alpha Vantage api key\n",
      " |          retries:  Maximum amount of retries in case of faulty connection or\n",
      " |              server not able to answer the call.\n",
      " |          treat_info_as_error: Treat information from the api as errors\n",
      " |          output_format:  Either 'json', 'pandas' os 'csv'\n",
      " |          indexing_type: Either 'date' to use the default date string given\n",
      " |          by the alpha vantage api call or 'integer' if you just want an\n",
      " |          integer indexing on your dataframe. Only valid, when the\n",
      " |          output_format is 'pandas'\n",
      " |          proxy: Dictionary mapping protocol or protocol and hostname to\n",
      " |          the URL of the proxy.\n",
      " |          rapidapi: Boolean describing whether or not the API key is\n",
      " |          through the RapidAPI platform or not\n",
      " |  \n",
      " |  map_to_matype(self, matype)\n",
      " |      Convert to the alpha vantage math type integer. It returns an\n",
      " |      integer correspondent to the type of math to apply to a function. It\n",
      " |      raises ValueError if an integer greater than the supported math types\n",
      " |      is given.\n",
      " |      \n",
      " |      Keyword Arguments:\n",
      " |          matype:  The math type of the alpha vantage api. It accepts\n",
      " |          integers or a string representing the math type.\n",
      " |      \n",
      " |              * 0 = Simple Moving Average (SMA),\n",
      " |              * 1 = Exponential Moving Average (EMA),\n",
      " |              * 2 = Weighted Moving Average (WMA),\n",
      " |              * 3 = Double Exponential Moving Average (DEMA),\n",
      " |              * 4 = Triple Exponential Moving Average (TEMA),\n",
      " |              * 5 = Triangular Moving Average (TRIMA),\n",
      " |              * 6 = T3 Moving Average,\n",
      " |              * 7 = Kaufman Adaptive Moving Average (KAMA),\n",
      " |              * 8 = MESA Adaptive Moving Average (MAMA)\n",
      " |  \n",
      " |  set_proxy(self, proxy=None)\n",
      " |      Set a new proxy configuration\n",
      " |      \n",
      " |      Keyword Arguments:\n",
      " |          proxy: Dictionary mapping protocol or protocol and hostname to\n",
      " |          the URL of the proxy.\n",
      " |  \n",
      " |  ----------------------------------------------------------------------\n",
      " |  Data descriptors inherited from alpha_vantage.alphavantage.AlphaVantage:\n",
      " |  \n",
      " |  __dict__\n",
      " |      dictionary for instance variables (if defined)\n",
      " |  \n",
      " |  __weakref__\n",
      " |      list of weak references to the object (if defined)\n",
      "\n"
     ]
    }
   ],
   "source": [
    "help(app)"
   ]
  },
  {
   "cell_type": "code",
   "execution_count": 6,
   "id": "surface-garlic",
   "metadata": {},
   "outputs": [],
   "source": [
    "aapl = app.get_daily_adjusted('AAPL', outputsize='full')"
   ]
  },
  {
   "cell_type": "code",
   "execution_count": 7,
   "id": "surrounded-exchange",
   "metadata": {},
   "outputs": [
    {
     "name": "stdout",
     "output_type": "stream",
     "text": [
      "{'1. Information': 'Daily Time Series with Splits and Dividend Events', '2. Symbol': 'AAPL', '3. Last Refreshed': '2021-02-25', '4. Output Size': 'Full size', '5. Time Zone': 'US/Eastern'}\n"
     ]
    }
   ],
   "source": [
    "print(aapl[1])"
   ]
  },
  {
   "cell_type": "code",
   "execution_count": 16,
   "id": "small-madness",
   "metadata": {},
   "outputs": [
    {
     "name": "stdout",
     "output_type": "stream",
     "text": [
      "{'1. open': '124.68', '2. high': '126.4585', '3. low': '120.54', '4. close': '120.99', '5. adjusted close': '120.99', '6. volume': '144766924', '7. dividend amount': '0.0000', '8. split coefficient': '1.0'}\n"
     ]
    }
   ],
   "source": [
    "print(aapl[0]['2021-02-25'])"
   ]
  },
  {
   "cell_type": "code",
   "execution_count": 18,
   "id": "historic-competition",
   "metadata": {},
   "outputs": [],
   "source": [
    "#print(aapl)"
   ]
  },
  {
   "cell_type": "code",
   "execution_count": 20,
   "id": "assisted-antibody",
   "metadata": {},
   "outputs": [
    {
     "name": "stdout",
     "output_type": "stream",
     "text": [
      "{'Meta Data': {'1. Information': 'Daily Time Series with Splits and Dividend Events', '2. Symbol': 'IBM', '3. Last Refreshed': '2021-02-25', '4. Output Size': 'Compact', '5. Time Zone': 'US/Eastern'}, 'Time Series (Daily)': {'2021-02-25': {'1. open': '123.37', '2. high': '124.35', '3. low': '122.335', '4. close': '122.47', '5. adjusted close': '122.47', '6. volume': '5672671', '7. dividend amount': '0.0000', '8. split coefficient': '1.0'}, '2021-02-24': {'1. open': '120.8', '2. high': '123.49', '3. low': '120.52', '4. close': '123.21', '5. adjusted close': '123.21', '6. volume': '5819983', '7. dividend amount': '0.0000', '8. split coefficient': '1.0'}, '2021-02-23': {'1. open': '120.92', '2. high': '121.35', '3. low': '119.8', '4. close': '120.71', '5. adjusted close': '120.71', '6. volume': '4531464', '7. dividend amount': '0.0000', '8. split coefficient': '1.0'}, '2021-02-22': {'1. open': '118.5', '2. high': '121.125', '3. low': '118.44', '4. close': '120.86', '5. adjusted close': '120.86', '6. volume': '5838841', '7. dividend amount': '0.0000', '8. split coefficient': '1.0'}, '2021-02-19': {'1. open': '120.75', '2. high': '120.76', '3. low': '118.38', '4. close': '118.99', '5. adjusted close': '118.99', '6. volume': '6578741', '7. dividend amount': '0.0000', '8. split coefficient': '1.0'}, '2021-02-18': {'1. open': '120.5', '2. high': '120.94', '3. low': '119.7', '4. close': '120.73', '5. adjusted close': '120.73', '6. volume': '5399145', '7. dividend amount': '0.0000', '8. split coefficient': '1.0'}, '2021-02-17': {'1. open': '119.27', '2. high': '120.56', '3. low': '119.02', '4. close': '119.97', '5. adjusted close': '119.97', '6. volume': '3949876', '7. dividend amount': '0.0000', '8. split coefficient': '1.0'}, '2021-02-16': {'1. open': '120.15', '2. high': '120.6', '3. low': '119.36', '4. close': '120.07', '5. adjusted close': '120.07', '6. volume': '6639790', '7. dividend amount': '0.0000', '8. split coefficient': '1.0'}, '2021-02-12': {'1. open': '121.0', '2. high': '121.36', '3. low': '120.09', '4. close': '120.8', '5. adjusted close': '120.8', '6. volume': '3871195', '7. dividend amount': '0.0000', '8. split coefficient': '1.0'}, '2021-02-11': {'1. open': '122.0', '2. high': '122.205', '3. low': '120.63', '4. close': '120.91', '5. adjusted close': '120.91', '6. volume': '5381556', '7. dividend amount': '0.0000', '8. split coefficient': '1.0'}, '2021-02-10': {'1. open': '123.03', '2. high': '123.41', '3. low': '121.2138', '4. close': '122.24', '5. adjusted close': '122.24', '6. volume': '4831858', '7. dividend amount': '0.0000', '8. split coefficient': '1.0'}, '2021-02-09': {'1. open': '121.9', '2. high': '122.5953', '3. low': '121.05', '4. close': '122.1', '5. adjusted close': '122.1', '6. volume': '4661655', '7. dividend amount': '1.6300', '8. split coefficient': '1.0'}, '2021-02-08': {'1. open': '122.62', '2. high': '123.9767', '3. low': '122.4', '4. close': '123.61', '5. adjusted close': '121.981580862', '6. volume': '5887999', '7. dividend amount': '0.0000', '8. split coefficient': '1.0'}, '2021-02-05': {'1. open': '121.0', '2. high': '121.81', '3. low': '120.52', '4. close': '121.79', '5. adjusted close': '120.185557262', '6. volume': '4565727', '7. dividend amount': '0.0000', '8. split coefficient': '1.0'}, '2021-02-04': {'1. open': '119.91', '2. high': '121.1', '3. low': '118.87', '4. close': '121.02', '5. adjusted close': '119.425701123', '6. volume': '4562124', '7. dividend amount': '0.0000', '8. split coefficient': '1.0'}, '2021-02-03': {'1. open': '119.04', '2. high': '119.8', '3. low': '118.12', '4. close': '119.12', '5. adjusted close': '117.550731431', '6. volume': '6715366', '7. dividend amount': '0.0000', '8. split coefficient': '1.0'}, '2021-02-02': {'1. open': '119.36', '2. high': '121.0', '3. low': '119.28', '4. close': '119.44', '5. adjusted close': '117.866515801', '6. volume': '6311881', '7. dividend amount': '0.0000', '8. split coefficient': '1.0'}, '2021-02-01': {'1. open': '119.9', '2. high': '120.95', '3. low': '118.73', '4. close': '120.54', '5. adjusted close': '118.95202457', '6. volume': '6250508', '7. dividend amount': '0.0000', '8. split coefficient': '1.0'}, '2021-01-29': {'1. open': '120.22', '2. high': '121.3', '3. low': '118.9', '4. close': '119.11', '5. adjusted close': '117.54086317', '6. volume': '11825496', '7. dividend amount': '0.0000', '8. split coefficient': '1.0'}, '2021-01-28': {'1. open': '122.8', '2. high': '123.2', '3. low': '120.07', '4. close': '120.08', '5. adjusted close': '118.498084539', '6. volume': '8084051', '7. dividend amount': '0.0000', '8. split coefficient': '1.0'}, '2021-01-27': {'1. open': '122.08', '2. high': '124.79', '3. low': '121.6214', '4. close': '122.47', '5. adjusted close': '120.856599046', '6. volume': '12146541', '7. dividend amount': '0.0000', '8. split coefficient': '1.0'}, '2021-01-26': {'1. open': '119.18', '2. high': '122.59', '3. low': '118.42', '4. close': '122.49', '5. adjusted close': '120.876335569', '6. volume': '10694708', '7. dividend amount': '0.0000', '8. split coefficient': '1.0'}, '2021-01-25': {'1. open': '118.7624', '2. high': '119.538', '3. low': '117.45', '4. close': '118.58', '5. adjusted close': '117.017845308', '6. volume': '13686391', '7. dividend amount': '0.0000', '8. split coefficient': '1.0'}, '2021-01-22': {'1. open': '120.7', '2. high': '120.7', '3. low': '117.36', '4. close': '118.61', '5. adjusted close': '117.047450093', '6. volume': '38063533', '7. dividend amount': '0.0000', '8. split coefficient': '1.0'}, '2021-01-21': {'1. open': '130.12', '2. high': '132.24', '3. low': '130.05', '4. close': '131.65', '5. adjusted close': '129.915663137', '6. volume': '12819233', '7. dividend amount': '0.0000', '8. split coefficient': '1.0'}, '2021-01-20': {'1. open': '129.7', '2. high': '131.06', '3. low': '128.56', '4. close': '130.08', '5. adjusted close': '128.366346076', '6. volume': '5598705', '7. dividend amount': '0.0000', '8. split coefficient': '1.0'}, '2021-01-19': {'1. open': '129.28', '2. high': '129.59', '3. low': '128.0885', '4. close': '129.02', '5. adjusted close': '127.320310353', '6. volume': '5397956', '7. dividend amount': '0.0000', '8. split coefficient': '1.0'}, '2021-01-15': {'1. open': '128.28', '2. high': '129.24', '3. low': '127.67', '4. close': '128.39', '5. adjusted close': '126.698609876', '6. volume': '4905506', '7. dividend amount': '0.0000', '8. split coefficient': '1.0'}, '2021-01-14': {'1. open': '128.02', '2. high': '130.16', '3. low': '127.55', '4. close': '128.97', '5. adjusted close': '127.270969046', '6. volume': '7503180', '7. dividend amount': '0.0000', '8. split coefficient': '1.0'}, '2021-01-13': {'1. open': '129.15', '2. high': '129.75', '3. low': '126.455', '4. close': '126.92', '5. adjusted close': '125.24797543', '6. volume': '7677739', '7. dividend amount': '0.0000', '8. split coefficient': '1.0'}, '2021-01-12': {'1. open': '129.09', '2. high': '129.85', '3. low': '127.94', '4. close': '129.21', '5. adjusted close': '127.507807322', '6. volume': '3729068', '7. dividend amount': '0.0000', '8. split coefficient': '1.0'}, '2021-01-11': {'1. open': '127.95', '2. high': '129.675', '3. low': '127.66', '4. close': '128.58', '5. adjusted close': '126.886106846', '6. volume': '5602466', '7. dividend amount': '0.0000', '8. split coefficient': '1.0'}, '2021-01-08': {'1. open': '128.57', '2. high': '129.32', '3. low': '126.98', '4. close': '128.53', '5. adjusted close': '126.836765538', '6. volume': '4676487', '7. dividend amount': '0.0000', '8. split coefficient': '1.0'}, '2021-01-07': {'1. open': '130.04', '2. high': '130.46', '3. low': '128.26', '4. close': '128.99', '5. adjusted close': '127.290705569', '6. volume': '4507382', '7. dividend amount': '0.0000', '8. split coefficient': '1.0'}, '2021-01-06': {'1. open': '126.9', '2. high': '131.88', '3. low': '126.72', '4. close': '129.29', '5. adjusted close': '127.586753415', '6. volume': '7956740', '7. dividend amount': '0.0000', '8. split coefficient': '1.0'}, '2021-01-05': {'1. open': '125.01', '2. high': '126.68', '3. low': '124.61', '4. close': '126.14', '5. adjusted close': '124.47825103', '6. volume': '6114619', '7. dividend amount': '0.0000', '8. split coefficient': '1.0'}, '2021-01-04': {'1. open': '125.85', '2. high': '125.9174', '3. low': '123.04', '4. close': '123.94', '5. adjusted close': '122.307233492', '6. volume': '5179161', '7. dividend amount': '0.0000', '8. split coefficient': '1.0'}, '2020-12-31': {'1. open': '124.22', '2. high': '126.03', '3. low': '123.99', '4. close': '125.88', '5. adjusted close': '124.221676231', '6. volume': '3574696', '7. dividend amount': '0.0000', '8. split coefficient': '1.0'}, '2020-12-30': {'1. open': '123.8', '2. high': '124.85', '3. low': '123.63', '4. close': '124.34', '5. adjusted close': '122.701963954', '6. volume': '3380494', '7. dividend amount': '0.0000', '8. split coefficient': '1.0'}, '2020-12-29': {'1. open': '125.35', '2. high': '125.48', '3. low': '123.24', '4. close': '123.8', '5. adjusted close': '122.169077831', '6. volume': '3487007', '7. dividend amount': '0.0000', '8. split coefficient': '1.0'}, '2020-12-28': {'1. open': '125.1', '2. high': '126.6', '3. low': '124.46', '4. close': '124.82', '5. adjusted close': '123.175640508', '6. volume': '3583222', '7. dividend amount': '0.0000', '8. split coefficient': '1.0'}, '2020-12-24': {'1. open': '125.0', '2. high': '125.1', '3. low': '124.21', '4. close': '124.69', '5. adjusted close': '123.047353108', '6. volume': '1761122', '7. dividend amount': '0.0000', '8. split coefficient': '1.0'}, '2020-12-23': {'1. open': '123.88', '2. high': '125.21', '3. low': '123.74', '4. close': '123.9', '5. adjusted close': '122.267760446', '6. volume': '2693889', '7. dividend amount': '0.0000', '8. split coefficient': '1.0'}, '2020-12-22': {'1. open': '123.31', '2. high': '124.22', '3. low': '122.41', '4. close': '123.61', '5. adjusted close': '121.981580862', '6. volume': '4337757', '7. dividend amount': '0.0000', '8. split coefficient': '1.0'}, '2020-12-21': {'1. open': '123.97', '2. high': '124.18', '3. low': '121.72', '4. close': '123.39', '5. adjusted close': '121.764479108', '6. volume': '6115671', '7. dividend amount': '0.0000', '8. split coefficient': '1.0'}, '2020-12-18': {'1. open': '125.59', '2. high': '126.4', '3. low': '124.97', '4. close': '125.85', '5. adjusted close': '124.192071446', '6. volume': '7552845', '7. dividend amount': '0.0000', '8. split coefficient': '1.0'}, '2020-12-17': {'1. open': '126.08', '2. high': '126.09', '3. low': '124.91', '4. close': '125.55', '5. adjusted close': '123.8960236', '6. volume': '3787962', '7. dividend amount': '0.0000', '8. split coefficient': '1.0'}, '2020-12-16': {'1. open': '125.93', '2. high': '126.5728', '3. low': '125.286', '4. close': '125.55', '5. adjusted close': '123.8960236', '6. volume': '4530096', '7. dividend amount': '0.0000', '8. split coefficient': '1.0'}, '2020-12-15': {'1. open': '124.39', '2. high': '125.93', '3. low': '123.44', '4. close': '125.93', '5. adjusted close': '124.271017538', '6. volume': '4359601', '7. dividend amount': '0.0000', '8. split coefficient': '1.0'}, '2020-12-14': {'1. open': '125.32', '2. high': '126.2435', '3. low': '123.47', '4. close': '123.53', '5. adjusted close': '121.902634769', '6. volume': '5050023', '7. dividend amount': '0.0000', '8. split coefficient': '1.0'}, '2020-12-11': {'1. open': '124.08', '2. high': '125.51', '3. low': '123.61', '4. close': '124.27', '5. adjusted close': '122.632886123', '6. volume': '4481416', '7. dividend amount': '0.0000', '8. split coefficient': '1.0'}, '2020-12-10': {'1. open': '126.35', '2. high': '126.93', '3. low': '124.94', '4. close': '124.96', '5. adjusted close': '123.313796169', '6. volume': '4803172', '7. dividend amount': '0.0000', '8. split coefficient': '1.0'}, '2020-12-09': {'1. open': '125.8', '2. high': '127.69', '3. low': '125.7', '4. close': '126.79', '5. adjusted close': '125.11968803', '6. volume': '6513517', '7. dividend amount': '0.0000', '8. split coefficient': '1.0'}, '2020-12-08': {'1. open': '125.32', '2. high': '126.33', '3. low': '124.64', '4. close': '125.71', '5. adjusted close': '124.053915784', '6. volume': '5395024', '7. dividend amount': '0.0000', '8. split coefficient': '1.0'}, '2020-12-07': {'1. open': '126.49', '2. high': '126.97', '3. low': '124.57', '4. close': '124.7', '5. adjusted close': '123.057221369', '6. volume': '8318500', '7. dividend amount': '0.0000', '8. split coefficient': '1.0'}, '2020-12-04': {'1. open': '123.97', '2. high': '127.38', '3. low': '123.64', '4. close': '127.2', '5. adjusted close': '125.524286753', '6. volume': '5522760', '7. dividend amount': '0.0000', '8. split coefficient': '1.0'}, '2020-12-03': {'1. open': '124.16', '2. high': '124.86', '3. low': '123.29', '4. close': '123.61', '5. adjusted close': '121.981580862', '6. volume': '4548161', '7. dividend amount': '0.0000', '8. split coefficient': '1.0'}, '2020-12-02': {'1. open': '122.85', '2. high': '124.64', '3. low': '122.41', '4. close': '124.62', '5. adjusted close': '122.978275277', '6. volume': '3690737', '7. dividend amount': '0.0000', '8. split coefficient': '1.0'}, '2020-12-01': {'1. open': '123.9', '2. high': '125.83', '3. low': '123.08', '4. close': '123.16', '5. adjusted close': '121.537509092', '6. volume': '5099334', '7. dividend amount': '0.0000', '8. split coefficient': '1.0'}, '2020-11-30': {'1. open': '124.1', '2. high': '125.0', '3. low': '123.09', '4. close': '123.52', '5. adjusted close': '121.892766508', '6. volume': '5987991', '7. dividend amount': '0.0000', '8. split coefficient': '1.0'}, '2020-11-27': {'1. open': '124.2', '2. high': '125.313', '3. low': '123.91', '4. close': '124.35', '5. adjusted close': '122.711832215', '6. volume': '2091186', '7. dividend amount': '0.0000', '8. split coefficient': '1.0'}, '2020-11-25': {'1. open': '122.93', '2. high': '124.33', '3. low': '122.11', '4. close': '124.2', '5. adjusted close': '122.563808292', '6. volume': '4135894', '7. dividend amount': '0.0000', '8. split coefficient': '1.0'}, '2020-11-24': {'1. open': '120.86', '2. high': '124.73', '3. low': '120.805', '4. close': '124.42', '5. adjusted close': '122.780910046', '6. volume': '7535949', '7. dividend amount': '0.0000', '8. split coefficient': '1.0'}, '2020-11-23': {'1. open': '117.43', '2. high': '120.515', '3. low': '117.27', '4. close': '120.09', '5. adjusted close': '118.5079528', '6. volume': '5655119', '7. dividend amount': '0.0000', '8. split coefficient': '1.0'}, '2020-11-20': {'1. open': '117.6', '2. high': '118.04', '3. low': '116.69', '4. close': '116.94', '5. adjusted close': '115.399450416', '6. volume': '5024593', '7. dividend amount': '0.0000', '8. split coefficient': '1.0'}, '2020-11-19': {'1. open': '116.54', '2. high': '117.45', '3. low': '115.89', '4. close': '117.18', '5. adjusted close': '115.636288693', '6. volume': '3439648', '7. dividend amount': '0.0000', '8. split coefficient': '1.0'}, '2020-11-18': {'1. open': '117.72', '2. high': '118.88', '3. low': '116.75', '4. close': '116.77', '5. adjusted close': '115.23168997', '6. volume': '4606828', '7. dividend amount': '0.0000', '8. split coefficient': '1.0'}, '2020-11-17': {'1. open': '117.6', '2. high': '118.54', '3. low': '117.07', '4. close': '117.7', '5. adjusted close': '116.149438293', '6. volume': '4134455', '7. dividend amount': '0.0000', '8. split coefficient': '1.0'}, '2020-11-16': {'1. open': '118.3', '2. high': '118.55', '3. low': '117.12', '4. close': '118.36', '5. adjusted close': '116.800743555', '6. volume': '5293385', '7. dividend amount': '0.0000', '8. split coefficient': '1.0'}, '2020-11-13': {'1. open': '115.19', '2. high': '117.37', '3. low': '115.01', '4. close': '116.85', '5. adjusted close': '115.310636062', '6. volume': '4683512', '7. dividend amount': '0.0000', '8. split coefficient': '1.0'}, '2020-11-12': {'1. open': '115.63', '2. high': '116.37', '3. low': '113.48', '4. close': '114.5', '5. adjusted close': '112.991594601', '6. volume': '6500799', '7. dividend amount': '0.0000', '8. split coefficient': '1.0'}, '2020-11-11': {'1. open': '118.12', '2. high': '118.35', '3. low': '116.22', '4. close': '117.2', '5. adjusted close': '115.656025216', '6. volume': '4289601', '7. dividend amount': '0.0000', '8. split coefficient': '1.0'}, '2020-11-10': {'1. open': '116.69', '2. high': '118.17', '3. low': '116.25', '4. close': '117.91', '5. adjusted close': '116.356671785', '6. volume': '5622756', '7. dividend amount': '0.0000', '8. split coefficient': '1.0'}, '2020-11-09': {'1. open': '117.88', '2. high': '119.74', '3. low': '115.27', '4. close': '115.53', '5. adjusted close': '114.008025539', '6. volume': '8992152', '7. dividend amount': '1.6300', '8. split coefficient': '1.0'}, '2020-11-06': {'1. open': '115.08', '2. high': '115.1', '3. low': '113.39', '4. close': '114.04', '5. adjusted close': '110.971963405', '6. volume': '5249171', '7. dividend amount': '0.0000', '8. split coefficient': '1.0'}, '2020-11-05': {'1. open': '113.3', '2. high': '115.29', '3. low': '113.01', '4. close': '114.77', '5. adjusted close': '111.682324097', '6. volume': '4902206', '7. dividend amount': '0.0000', '8. split coefficient': '1.0'}, '2020-11-04': {'1. open': '112.33', '2. high': '113.91', '3. low': '111.16', '4. close': '111.9', '5. adjusted close': '108.889536172', '6. volume': '5800071', '7. dividend amount': '0.0000', '8. split coefficient': '1.0'}, '2020-11-03': {'1. open': '114.0', '2. high': '115.65', '3. low': '113.63', '4. close': '114.16', '5. adjusted close': '111.088735025', '6. volume': '4204287', '7. dividend amount': '0.0000', '8. split coefficient': '1.0'}, '2020-11-02': {'1. open': '112.65', '2. high': '113.8265', '3. low': '112.25', '4. close': '112.91', '5. adjusted close': '109.872363978', '6. volume': '5311497', '7. dividend amount': '0.0000', '8. split coefficient': '1.0'}, '2020-10-30': {'1. open': '107.9', '2. high': '111.8', '3. low': '107.75', '4. close': '111.66', '5. adjusted close': '108.655992931', '6. volume': '7923882', '7. dividend amount': '0.0000', '8. split coefficient': '1.0'}, '2020-10-29': {'1. open': '107.25', '2. high': '109.64', '3. low': '106.55', '4. close': '108.91', '5. adjusted close': '105.979976626', '6. volume': '6760241', '7. dividend amount': '0.0000', '8. split coefficient': '1.0'}, '2020-10-28': {'1. open': '108.66', '2. high': '109.73', '3. low': '105.92', '4. close': '106.65', '5. adjusted close': '103.780777772', '6. volume': '9427321', '7. dividend amount': '0.0000', '8. split coefficient': '1.0'}, '2020-10-27': {'1. open': '112.15', '2. high': '112.22', '3. low': '110.03', '4. close': '110.56', '5. adjusted close': '107.585586409', '6. volume': '5936106', '7. dividend amount': '0.0000', '8. split coefficient': '1.0'}, '2020-10-26': {'1. open': '114.45', '2. high': '114.9', '3. low': '111.84', '4. close': '112.22', '5. adjusted close': '109.20092716', '6. volume': '7203366', '7. dividend amount': '0.0000', '8. split coefficient': '1.0'}, '2020-10-23': {'1. open': '116.5', '2. high': '116.62', '3. low': '115.53', '4. close': '116.0', '5. adjusted close': '112.879233207', '6. volume': '3893362', '7. dividend amount': '0.0000', '8. split coefficient': '1.0'}, '2020-10-22': {'1. open': '115.0', '2. high': '116.06', '3. low': '112.98', '4. close': '115.76', '5. adjusted close': '112.645689966', '6. volume': '7858158', '7. dividend amount': '0.0000', '8. split coefficient': '1.0'}, '2020-10-21': {'1. open': '116.66', '2. high': '117.6899', '3. low': '114.79', '4. close': '115.06', '5. adjusted close': '111.96452218', '6. volume': '9755308', '7. dividend amount': '0.0000', '8. split coefficient': '1.0'}, '2020-10-20': {'1. open': '119.8', '2. high': '120.15', '3. low': '116.84', '4. close': '117.37', '5. adjusted close': '114.212375875', '6. volume': '21501073', '7. dividend amount': '0.0000', '8. split coefficient': '1.0'}, '2020-10-19': {'1. open': '126.8', '2. high': '127.35', '3. low': '125.08', '4. close': '125.52', '5. adjusted close': '122.143115105', '6. volume': '7478735', '7. dividend amount': '0.0000', '8. split coefficient': '1.0'}, '2020-10-16': {'1. open': '125.17', '2. high': '126.43', '3. low': '124.655', '4. close': '125.93', '5. adjusted close': '122.542084809', '6. volume': '4714320', '7. dividend amount': '0.0000', '8. split coefficient': '1.0'}, '2020-10-15': {'1. open': '124.08', '2. high': '125.215', '3. low': '123.85', '4. close': '124.89', '5. adjusted close': '121.530064097', '6. volume': '3389301', '7. dividend amount': '0.0000', '8. split coefficient': '1.0'}, '2020-10-14': {'1. open': '125.13', '2. high': '126.94', '3. low': '125.13', '4. close': '125.94', '5. adjusted close': '122.551815777', '6. volume': '3730139', '7. dividend amount': '0.0000', '8. split coefficient': '1.0'}, '2020-10-13': {'1. open': '126.57', '2. high': '127.15', '3. low': '124.46', '4. close': '125.1', '5. adjusted close': '121.734414433', '6. volume': '5406088', '7. dividend amount': '0.0000', '8. split coefficient': '1.0'}, '2020-10-12': {'1. open': '128.07', '2. high': '128.25', '3. low': '126.44', '4. close': '127.21', '5. adjusted close': '123.787648761', '6. volume': '4635115', '7. dividend amount': '0.0000', '8. split coefficient': '1.0'}, '2020-10-09': {'1. open': '132.0', '2. high': '132.0', '3. low': '127.6', '4. close': '127.79', '5. adjusted close': '124.352044927', '6. volume': '8353704', '7. dividend amount': '0.0000', '8. split coefficient': '1.0'}, '2020-10-08': {'1. open': '130.86', '2. high': '135.5', '3. low': '129.77', '4. close': '131.49', '5. adjusted close': '127.952503228', '6. volume': '25288926', '7. dividend amount': '0.0000', '8. split coefficient': '1.0'}, '2020-10-07': {'1. open': '122.67', '2. high': '124.39', '3. low': '122.32', '4. close': '124.07', '5. adjusted close': '120.73212469', '6. volume': '2815663', '7. dividend amount': '0.0000', '8. split coefficient': '1.0'}, '2020-10-06': {'1. open': '122.58', '2. high': '124.83', '3. low': '121.59', '4. close': '121.97', '5. adjusted close': '118.68862133', '6. volume': '3872265', '7. dividend amount': '0.0000', '8. split coefficient': '1.0'}, '2020-10-05': {'1. open': '121.84', '2. high': '122.75', '3. low': '121.05', '4. close': '122.01', '5. adjusted close': '118.727545204', '6. volume': '3050949', '7. dividend amount': '0.0000', '8. split coefficient': '1.0'}, '2020-10-02': {'1. open': '119.04', '2. high': '121.75', '3. low': '118.82', '4. close': '120.57', '5. adjusted close': '117.326285757', '6. volume': '2925228', '7. dividend amount': '0.0000', '8. split coefficient': '1.0'}}}\n"
     ]
    }
   ],
   "source": [
    "import requests \n",
    "base_url = 'https://www.alphavantage.co/query?'\n",
    "function = 'TIME_SERIES_DAILY_ADJUSTED'\n",
    "symbol = 'IBM'\n",
    "\n",
    "response = requests.get(f'{base_url}function={function}&symbol={symbol}&apikey={api_key}')\n",
    "print(response.json())"
   ]
  },
  {
   "cell_type": "code",
   "execution_count": null,
   "id": "enhanced-visiting",
   "metadata": {},
   "outputs": [],
   "source": [
    "base_url = 'https://www.alphavantage.co/query?'\n",
    "params = {'function': 'TIME_SERIES_DAILY_ADJUSTED',\n",
    "\t\t 'symbol': 'IBM',\n",
    "\t\t 'apikey': api_key}\n",
    "\n",
    "response = requests.get(base_url, params=params)\n",
    "print(response.json())\n"
   ]
  },
  {
   "cell_type": "code",
   "execution_count": null,
   "id": "identical-farmer",
   "metadata": {},
   "outputs": [],
   "source": []
  },
  {
   "cell_type": "code",
   "execution_count": 21,
   "id": "infrared-edinburgh",
   "metadata": {},
   "outputs": [
    {
     "name": "stdout",
     "output_type": "stream",
     "text": [
      "Help on class ForeignExchange in module alpha_vantage.foreignexchange:\n",
      "\n",
      "class ForeignExchange(alpha_vantage.alphavantage.AlphaVantage)\n",
      " |  ForeignExchange(*args, **kwargs)\n",
      " |  \n",
      " |  Realtime currency exchange rates for physical and digital currencies.\n",
      " |  \n",
      " |  Method resolution order:\n",
      " |      ForeignExchange\n",
      " |      alpha_vantage.alphavantage.AlphaVantage\n",
      " |      builtins.object\n",
      " |  \n",
      " |  Methods defined here:\n",
      " |  \n",
      " |  __init__(self, *args, **kwargs)\n",
      " |      Inherit AlphaVantage base class with its default arguments\n",
      " |  \n",
      " |  get_currency_exchange_daily(self, from_symbol, to_symbol, outputsize='compact')\n",
      " |      Returns the daily exchange rate for any pair of physical\n",
      " |      currency (e.g., EUR) or physical currency (e.g., USD).\n",
      " |      \n",
      " |      Keyword Arguments:\n",
      " |          from_symbol: The currency you would like to get the exchange rate\n",
      " |              for.\n",
      " |              For example: from_symbol=EUR or from_symbol=USD.\n",
      " |          to_symbol: The destination currency for the exchange rate.\n",
      " |              For example: to_symbol=USD or to_symbol=JPY.\n",
      " |          outputsize:  The size of the call, supported values are\n",
      " |              'compact' and 'full; the first returns the last 100 points in the\n",
      " |              data series, and 'full' returns the full-length daily times\n",
      " |              series, commonly above 1MB (default 'compact')\n",
      " |  \n",
      " |  get_currency_exchange_intraday(self, from_symbol, to_symbol, interval='15min', outputsize='compact')\n",
      " |      Returns the intraday exchange rate for any pair of physical\n",
      " |      currency (e.g., EUR) or physical currency (e.g., USD).\n",
      " |      \n",
      " |      Keyword Arguments:\n",
      " |          from_symbol: The currency you would like to get the exchange rate\n",
      " |              for.\n",
      " |              For example: from_currency=EUR or from_currency=USD.\n",
      " |          to_symbol: The destination currency for the exchange rate.\n",
      " |              For example: to_currency=USD or to_currency=JPY.\n",
      " |          interval:  time interval between two conscutive values,\n",
      " |              supported values are '1min', '5min', '15min', '30min', '60min'\n",
      " |              (default '15min')\n",
      " |          outputsize:  The size of the call, supported values are\n",
      " |              'compact' and 'full; the first returns the last 100 points in the\n",
      " |              data series, and 'full' returns the full-length intraday times\n",
      " |              series, commonly above 1MB (default 'compact')\n",
      " |  \n",
      " |  get_currency_exchange_monthly(self, from_symbol, to_symbol, outputsize='compact')\n",
      " |      Returns the monthly exchange rate for any pair of physical\n",
      " |      currency (e.g., EUR) or physical currency (e.g., USD).\n",
      " |      \n",
      " |      Keyword Arguments:\n",
      " |          from_symbol: The currency you would like to get the exchange rate\n",
      " |              for.\n",
      " |              For example: from_symbol=EUR or from_symbol=USD.\n",
      " |          to_symbol: The destination currency for the exchange rate.\n",
      " |              For example: to_symbol=USD or to_symbol=JPY.\n",
      " |          interval:  time interval between two conscutive values,\n",
      " |              supported values are '1min', '5min', '15min', '30min', '60min'\n",
      " |              (default '15min')\n",
      " |          outputsize:  The size of the call, supported values are\n",
      " |              'compact' and 'full; the first returns the last 100 points in the\n",
      " |              data series, and 'full' returns the full-length monthly times\n",
      " |              series, commonly above 1MB (default 'compact')\n",
      " |  \n",
      " |  get_currency_exchange_rate(self, from_currency, to_currency)\n",
      " |      Returns the realtime exchange rate for any pair of physical\n",
      " |      currency (e.g., EUR) or physical currency (e.g., USD).\n",
      " |      \n",
      " |      Keyword Arguments:\n",
      " |          from_currency: The currency you would like to get the exchange rate\n",
      " |          for. It can either be a physical currency or digital/crypto currency.\n",
      " |          For example: from_currency=USD or from_currency=BTC.\n",
      " |          to_currency: The destination currency for the exchange rate.\n",
      " |          It can either be a physical currency or digital/crypto currency.\n",
      " |          For example: to_currency=USD or to_currency=BTC.\n",
      " |  \n",
      " |  get_currency_exchange_weekly(self, from_symbol, to_symbol, outputsize='compact')\n",
      " |      Returns the weekly exchange rate for any pair of physical\n",
      " |      currency (e.g., EUR) or physical currency (e.g., USD).\n",
      " |      \n",
      " |      Keyword Arguments:\n",
      " |          from_symbol: The currency you would like to get the exchange rate\n",
      " |              for.\n",
      " |              For example: from_symbol=EUR or from_symbol=USD.\n",
      " |          to_symbol: The destination currency for the exchange rate.\n",
      " |              For example: to_symbol=USD or to_symbol=JPY.\n",
      " |          outputsize:  The size of the call, supported values are\n",
      " |              'compact' and 'full; the first returns the last 100 points in the\n",
      " |              data series, and 'full' returns the full-length weekly times\n",
      " |              series, commonly above 1MB (default 'compact')\n",
      " |  \n",
      " |  ----------------------------------------------------------------------\n",
      " |  Methods inherited from alpha_vantage.alphavantage.AlphaVantage:\n",
      " |  \n",
      " |  map_to_matype(self, matype)\n",
      " |      Convert to the alpha vantage math type integer. It returns an\n",
      " |      integer correspondent to the type of math to apply to a function. It\n",
      " |      raises ValueError if an integer greater than the supported math types\n",
      " |      is given.\n",
      " |      \n",
      " |      Keyword Arguments:\n",
      " |          matype:  The math type of the alpha vantage api. It accepts\n",
      " |          integers or a string representing the math type.\n",
      " |      \n",
      " |              * 0 = Simple Moving Average (SMA),\n",
      " |              * 1 = Exponential Moving Average (EMA),\n",
      " |              * 2 = Weighted Moving Average (WMA),\n",
      " |              * 3 = Double Exponential Moving Average (DEMA),\n",
      " |              * 4 = Triple Exponential Moving Average (TEMA),\n",
      " |              * 5 = Triangular Moving Average (TRIMA),\n",
      " |              * 6 = T3 Moving Average,\n",
      " |              * 7 = Kaufman Adaptive Moving Average (KAMA),\n",
      " |              * 8 = MESA Adaptive Moving Average (MAMA)\n",
      " |  \n",
      " |  set_proxy(self, proxy=None)\n",
      " |      Set a new proxy configuration\n",
      " |      \n",
      " |      Keyword Arguments:\n",
      " |          proxy: Dictionary mapping protocol or protocol and hostname to\n",
      " |          the URL of the proxy.\n",
      " |  \n",
      " |  ----------------------------------------------------------------------\n",
      " |  Data descriptors inherited from alpha_vantage.alphavantage.AlphaVantage:\n",
      " |  \n",
      " |  __dict__\n",
      " |      dictionary for instance variables (if defined)\n",
      " |  \n",
      " |  __weakref__\n",
      " |      list of weak references to the object (if defined)\n",
      "\n"
     ]
    }
   ],
   "source": [
    "from alpha_vantage.foreignexchange import ForeignExchange\n",
    "help(ForeignExchange)"
   ]
  },
  {
   "cell_type": "code",
   "execution_count": 22,
   "id": "sexual-credit",
   "metadata": {},
   "outputs": [],
   "source": [
    "app = ForeignExchange(api_key, output_format='pandas')\n"
   ]
  },
  {
   "cell_type": "code",
   "execution_count": 23,
   "id": "forty-myrtle",
   "metadata": {},
   "outputs": [
    {
     "name": "stdout",
     "output_type": "stream",
     "text": [
      "                     1. open  2. high  3. low  4. close\n",
      "date                                                   \n",
      "2021-02-26 04:00:00   1.2165   1.2165  1.2160    1.2161\n",
      "2021-02-26 03:45:00   1.2169   1.2170  1.2162    1.2165\n",
      "2021-02-26 03:30:00   1.2175   1.2176  1.2166    1.2169\n",
      "2021-02-26 03:15:00   1.2172   1.2175  1.2169    1.2174\n",
      "2021-02-26 03:00:00   1.2175   1.2179  1.2170    1.2172\n",
      "...                      ...      ...     ...       ...\n",
      "2021-02-25 04:15:00   1.2169   1.2170  1.2165    1.2170\n",
      "2021-02-25 04:00:00   1.2167   1.2170  1.2164    1.2168\n",
      "2021-02-25 03:45:00   1.2165   1.2167  1.2162    1.2166\n",
      "2021-02-25 03:30:00   1.2163   1.2166  1.2161    1.2165\n",
      "2021-02-25 03:15:00   1.2159   1.2163  1.2158    1.2163\n",
      "\n",
      "[100 rows x 4 columns]\n"
     ]
    }
   ],
   "source": [
    "eurusd = app.get_currency_exchange_intraday('EUR', 'USD')\n",
    "print(eurusd[0])"
   ]
  },
  {
   "cell_type": "code",
   "execution_count": 25,
   "id": "sustained-collect",
   "metadata": {},
   "outputs": [
    {
     "name": "stdout",
     "output_type": "stream",
     "text": [
      "                     1. open  2. high  3. low  4. close\n",
      "date                                                   \n",
      "2021-02-25 23:45:00   1.2176   1.2178  1.2161    1.2163\n",
      "2021-02-25 23:30:00   1.2178   1.2181  1.2173    1.2176\n",
      "2021-02-25 23:15:00   1.2182   1.2183  1.2174    1.2177\n",
      "2021-02-25 23:00:00   1.2180   1.2184  1.2178    1.2182\n",
      "2021-02-25 22:45:00   1.2178   1.2182  1.2177    1.2179\n",
      "...                      ...      ...     ...       ...\n",
      "2021-02-25 04:15:00   1.2169   1.2170  1.2165    1.2170\n",
      "2021-02-25 04:00:00   1.2167   1.2170  1.2164    1.2168\n",
      "2021-02-25 03:45:00   1.2165   1.2167  1.2162    1.2166\n",
      "2021-02-25 03:30:00   1.2163   1.2166  1.2161    1.2165\n",
      "2021-02-25 03:15:00   1.2159   1.2163  1.2158    1.2163\n",
      "\n",
      "[83 rows x 4 columns]\n"
     ]
    },
    {
     "name": "stderr",
     "output_type": "stream",
     "text": [
      "/home/venom/anaconda3/lib/python3.7/site-packages/ipykernel_launcher.py:1: FutureWarning: Indexing a DataFrame with a datetimelike index using a single string to slice the rows, like `frame[string]`, is deprecated and will be removed in a future version. Use `frame.loc[string]` instead.\n",
      "  \"\"\"Entry point for launching an IPython kernel.\n"
     ]
    }
   ],
   "source": [
    "print(eurusd[0]['2021-02-25'])"
   ]
  },
  {
   "cell_type": "code",
   "execution_count": 30,
   "id": "equipped-fireplace",
   "metadata": {},
   "outputs": [
    {
     "name": "stdout",
     "output_type": "stream",
     "text": [
      "Index(['open', 'high', 'low', 'close'], dtype='object')\n",
      "                       open    high     low   close\n",
      "2021-02-26 04:00:00  1.2165  1.2165  1.2158  1.2158\n",
      "2021-02-26 03:45:00  1.2169  1.2170  1.2162  1.2165\n",
      "2021-02-26 03:30:00  1.2175  1.2176  1.2166  1.2169\n",
      "2021-02-26 03:15:00  1.2172  1.2175  1.2169  1.2174\n",
      "2021-02-26 03:00:00  1.2175  1.2179  1.2170  1.2172\n",
      "...                     ...     ...     ...     ...\n",
      "2021-02-25 04:15:00  1.2169  1.2170  1.2165  1.2170\n",
      "2021-02-25 04:00:00  1.2167  1.2170  1.2164  1.2168\n",
      "2021-02-25 03:45:00  1.2165  1.2167  1.2162  1.2166\n",
      "2021-02-25 03:30:00  1.2163  1.2166  1.2161  1.2165\n",
      "2021-02-25 03:15:00  1.2159  1.2163  1.2158  1.2163\n",
      "\n",
      "[100 rows x 4 columns]\n"
     ]
    }
   ],
   "source": [
    "import pandas as pd \n",
    "\n",
    "base_url = 'https://www.alphavantage.co/query?'\n",
    "params = {'function': 'FX_INTRADAY',\n",
    "  'from_symbol': 'EUR',\n",
    "  'to_symbol': 'USD', \n",
    "  'interval': '15min',\n",
    "  'apikey': api_key}\n",
    "\n",
    "response = requests.get(base_url, params=params)\n",
    "response_dict = response.json()\n",
    "_, header = response.json()\n",
    "\n",
    "#Convert to pandas dataframe\n",
    "df = pd.DataFrame.from_dict(response_dict[header], orient='index')\n",
    "\n",
    "#Clean up column names\n",
    "df_cols = [i.split(' ')[1] for i in df.columns]\n",
    "df.columns = df_cols\n",
    "print(df.columns)\n",
    "#df.set_index('date', inplace=True) #Time-series index \n",
    "\n",
    "print(df)"
   ]
  },
  {
   "cell_type": "code",
   "execution_count": null,
   "id": "concerned-conditioning",
   "metadata": {},
   "outputs": [],
   "source": []
  },
  {
   "cell_type": "code",
   "execution_count": null,
   "id": "compliant-behalf",
   "metadata": {},
   "outputs": [],
   "source": [
    "base_url = 'https://www.alphavantage.co/query?'\n",
    "params = {'function': 'FX_INTRADAY',\n",
    "\t\t 'from_symbol': 'EUR',\n",
    "\t\t 'to_symbol': 'USD', \n",
    "\t\t 'interval': '15min',\n",
    "\t\t 'datatype': 'csv',\n",
    "\t\t 'apikey': api_key}\n",
    "\n",
    "response = requests.get(base_url, params=params)\n",
    "\n",
    "#Save CSV to file\n",
    "with open('eurusd.csv', 'wb') as file:\n",
    "\tfile.write(response.content)\n",
    "\n",
    "df = pd.read_csv('eurusd.csv') #Create pandas dataframe\n",
    "\n",
    "df.set_index('timestamp', inplace=True) #Time-series index"
   ]
  },
  {
   "cell_type": "code",
   "execution_count": null,
   "id": "revolutionary-bunny",
   "metadata": {},
   "outputs": [],
   "source": []
  },
  {
   "cell_type": "code",
   "execution_count": 33,
   "id": "biological-valuation",
   "metadata": {},
   "outputs": [
    {
     "name": "stdout",
     "output_type": "stream",
     "text": [
      "Help on method get_macd in module alpha_vantage.techindicators:\n",
      "\n",
      "get_macd(symbol, interval='daily', series_type='close', fastperiod=None, slowperiod=None, signalperiod=None) method of alpha_vantage.techindicators.TechIndicators instance\n",
      "    Return the moving average convergence/divergence time series in two\n",
      "    json objects as data and meta_data. It raises ValueError when problems\n",
      "    arise\n",
      "    \n",
      "    Keyword Arguments:\n",
      "        symbol:  the symbol for the equity we want to get its data\n",
      "        interval:  time interval between two conscutive values,\n",
      "            supported values are '1min', '5min', '15min', '30min', '60min', 'daily',\n",
      "            'weekly', 'monthly' (default 'daily'\n",
      "        series_type:  The desired price type in the time series. Four types\n",
      "            are supported: 'close', 'open', 'high', 'low' (default 'close')\n",
      "        fastperiod:  Positive integers are accepted (default=None)\n",
      "        slowperiod:  Positive integers are accepted (default=None)\n",
      "        signalperiod:  Positive integers are accepted (default=None)\n",
      "\n"
     ]
    }
   ],
   "source": [
    "from alpha_vantage.techindicators import TechIndicators\n",
    "app = TechIndicators(api_key, output_format='pandas')\n",
    "\n",
    "\n",
    "help(app.get_macd)"
   ]
  },
  {
   "cell_type": "code",
   "execution_count": 34,
   "id": "packed-laptop",
   "metadata": {},
   "outputs": [
    {
     "name": "stdout",
     "output_type": "stream",
     "text": [
      "(            MACD_Signal  MACD_Hist    MACD\n",
      "date                                      \n",
      "2021-02-25      -0.4717    -1.6484 -2.1201\n",
      "2021-02-24      -0.0596    -1.4329 -1.4925\n",
      "2021-02-23       0.2987    -1.4125 -1.1138\n",
      "2021-02-22       0.6518    -1.3179 -0.6661\n",
      "2021-02-19       0.9812    -1.0805 -0.0993\n",
      "...                 ...        ...     ...\n",
      "1999-12-23       0.0295    -0.0094  0.0201\n",
      "1999-12-22       0.0318    -0.0122  0.0196\n",
      "1999-12-21       0.0349    -0.0134  0.0214\n",
      "1999-12-20       0.0382    -0.0168  0.0215\n",
      "1999-12-17       0.0424    -0.0177  0.0247\n",
      "\n",
      "[5331 rows x 3 columns], {'1: Symbol': 'aapl', '2: Indicator': 'Moving Average Convergence/Divergence (MACD)', '3: Last Refreshed': '2021-02-25', '4: Interval': 'daily', '5.1: Fast Period': 12, '5.2: Slow Period': 26, '5.3: Signal Period': 9, '6: Series Type': 'close', '7: Time Zone': 'US/Eastern'})\n"
     ]
    }
   ],
   "source": [
    "aapl_macd = app.get_macd('aapl', fastperiod=12, slowperiod=26, signalperiod=9)\n",
    "print(aapl_macd)"
   ]
  },
  {
   "cell_type": "code",
   "execution_count": 35,
   "id": "associate-nation",
   "metadata": {},
   "outputs": [],
   "source": [
    "BTC_macd = app.get_macd('BTCUSD', fastperiod=12, slowperiod=26, signalperiod=9)\n",
    "usdjpy_macd = app.get_macd('USDJPY', fastperiod=12, slowperiod=26, signalperiod=9)"
   ]
  },
  {
   "cell_type": "code",
   "execution_count": 36,
   "id": "constitutional-sense",
   "metadata": {},
   "outputs": [
    {
     "name": "stdout",
     "output_type": "stream",
     "text": [
      "(            MACD_Hist       MACD  MACD_Signal\n",
      "date                                         \n",
      "2021-02-26  -959.5413  3051.4153    4010.9566\n",
      "2021-02-25  -720.5097  3530.3322    4250.8419\n",
      "2021-02-24  -303.8302  4127.1392    4430.9694\n",
      "2021-02-23    55.2745  4562.2014    4506.9269\n",
      "2021-02-22   639.5989  5132.7071    4493.1083\n",
      "...               ...        ...          ...\n",
      "2011-10-10     0.2611    -1.2146      -1.4756\n",
      "2011-10-09     0.3090    -1.2319      -1.5409\n",
      "2011-10-08     0.3719    -1.2462      -1.6181\n",
      "2011-10-07     0.4016    -1.3096      -1.7111\n",
      "2011-10-06     0.4208    -1.3907      -1.8115\n",
      "\n",
      "[3414 rows x 3 columns], {'1: Symbol': 'BTCUSD', '2: Indicator': 'Moving Average Convergence/Divergence (MACD)', '3: Last Refreshed': '2021-02-26', '4: Interval': 'daily', '5.1: Fast Period': 12, '5.2: Slow Period': 26, '5.3: Signal Period': 9, '6: Series Type': 'close', '7: Time Zone': 'US/Eastern'})\n"
     ]
    }
   ],
   "source": [
    "print(BTC_macd)"
   ]
  },
  {
   "cell_type": "code",
   "execution_count": 37,
   "id": "dying-representation",
   "metadata": {},
   "outputs": [
    {
     "name": "stdout",
     "output_type": "stream",
     "text": [
      "(                       MACD  MACD_Hist  MACD_Signal\n",
      "date                                               \n",
      "2021-02-26 04:15:00  0.4379     0.0412       0.3967\n",
      "2021-02-25 00:00:00  0.4194     0.0330       0.3864\n",
      "2021-02-24 00:00:00  0.3781    -0.0000       0.3781\n",
      "2021-02-23 00:00:00  0.3550    -0.0231       0.3781\n",
      "2021-02-22 00:00:00  0.3848     0.0009       0.3839\n",
      "...                     ...        ...          ...\n",
      "2002-02-19 00:00:00  0.2197    -0.1948       0.4145\n",
      "2002-02-18 00:00:00  0.1893    -0.2739       0.4632\n",
      "2002-02-15 00:00:00  0.2465    -0.2852       0.5317\n",
      "2002-02-14 00:00:00  0.3149    -0.2882       0.6030\n",
      "2002-02-13 00:00:00  0.4556    -0.2195       0.6751\n",
      "\n",
      "[4967 rows x 3 columns], {'1: Symbol': 'USDJPY', '2: Indicator': 'Moving Average Convergence/Divergence (MACD)', '3: Last Refreshed': '2021-02-26 04:15:00', '4: Interval': 'daily', '5.1: Fast Period': 12, '5.2: Slow Period': 26, '5.3: Signal Period': 9, '6: Series Type': 'close', '7: Time Zone': 'US/Eastern'})\n"
     ]
    }
   ],
   "source": [
    "print(usdjpy_macd)"
   ]
  },
  {
   "cell_type": "code",
   "execution_count": null,
   "id": "split-adolescent",
   "metadata": {},
   "outputs": [],
   "source": []
  }
 ],
 "metadata": {
  "kernelspec": {
   "display_name": "Python 3",
   "language": "python",
   "name": "python3"
  },
  "language_info": {
   "codemirror_mode": {
    "name": "ipython",
    "version": 3
   },
   "file_extension": ".py",
   "mimetype": "text/x-python",
   "name": "python",
   "nbconvert_exporter": "python",
   "pygments_lexer": "ipython3",
   "version": "3.7.4"
  }
 },
 "nbformat": 4,
 "nbformat_minor": 5
}
