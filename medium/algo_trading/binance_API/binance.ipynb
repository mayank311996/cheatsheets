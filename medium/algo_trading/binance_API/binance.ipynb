{
 "cells": [
  {
   "cell_type": "code",
   "execution_count": 20,
   "metadata": {},
   "outputs": [],
   "source": [
    "from binance.client import Client\n",
    "import configparser\n",
    "from binance.websockets import BinanceSocketManager\n",
    "from twisted.internet import reactor\n",
    "import pandas as pd "
   ]
  },
  {
   "cell_type": "code",
   "execution_count": 2,
   "metadata": {
    "collapsed": false,
    "jupyter": {
     "outputs_hidden": false
    },
    "pycharm": {
     "name": "#%%\n"
    }
   },
   "outputs": [],
   "source": [
    "# Loading keys from config file\n",
    "config = configparser.ConfigParser()\n",
    "config.read_file(open('/home/venom/GitHub/cheatsheets/medium/algo_trading/binance_API/secret.cfg'))\n",
    "api_key = config.get('BINANCE', 'API_KEY')\n",
    "secret_key = config.get('BINANCE', 'SECRET_KEY')"
   ]
  },
  {
   "cell_type": "code",
   "execution_count": 3,
   "metadata": {
    "collapsed": false,
    "jupyter": {
     "outputs_hidden": false
    },
    "pycharm": {
     "name": "#%%\n"
    }
   },
   "outputs": [],
   "source": [
    "client = Client(api_key, secret_key)"
   ]
  },
  {
   "cell_type": "code",
   "execution_count": 4,
   "metadata": {
    "collapsed": false,
    "jupyter": {
     "outputs_hidden": false
    },
    "pycharm": {
     "name": "#%%\n"
    }
   },
   "outputs": [],
   "source": [
    "client.API_URL = 'https://testnet.binance.vision/api'"
   ]
  },
  {
   "cell_type": "code",
   "execution_count": 5,
   "metadata": {
    "collapsed": false,
    "jupyter": {
     "outputs_hidden": false
    },
    "pycharm": {
     "name": "#%%\n"
    }
   },
   "outputs": [
    {
     "name": "stdout",
     "output_type": "stream",
     "text": [
      "{'makerCommission': 0, 'takerCommission': 0, 'buyerCommission': 0, 'sellerCommission': 0, 'canTrade': True, 'canWithdraw': False, 'canDeposit': False, 'updateTime': 1613863611579, 'accountType': 'SPOT', 'balances': [{'asset': 'BNB', 'free': '1000.00000000', 'locked': '0.00000000'}, {'asset': 'BTC', 'free': '1.00000000', 'locked': '0.00000000'}, {'asset': 'BUSD', 'free': '10000.00000000', 'locked': '0.00000000'}, {'asset': 'ETH', 'free': '100.00000000', 'locked': '0.00000000'}, {'asset': 'LTC', 'free': '500.00000000', 'locked': '0.00000000'}, {'asset': 'TRX', 'free': '500000.00000000', 'locked': '0.00000000'}, {'asset': 'USDT', 'free': '10000.00000000', 'locked': '0.00000000'}, {'asset': 'XRP', 'free': '50000.00000000', 'locked': '0.00000000'}], 'permissions': ['SPOT']}\n"
     ]
    }
   ],
   "source": [
    "# get balances for all assets & some account information\n",
    "print(client.get_account())"
   ]
  },
  {
   "cell_type": "code",
   "execution_count": 6,
   "metadata": {
    "collapsed": false,
    "jupyter": {
     "outputs_hidden": false
    },
    "pycharm": {
     "name": "#%%\n"
    }
   },
   "outputs": [
    {
     "name": "stdout",
     "output_type": "stream",
     "text": [
      "{'asset': 'BTC', 'free': '1.00000000', 'locked': '0.00000000'}\n"
     ]
    }
   ],
   "source": [
    "# get balance for a specific asset only (BTC)\n",
    "print(client.get_asset_balance(asset='BTC'))"
   ]
  },
  {
   "cell_type": "code",
   "execution_count": 7,
   "metadata": {
    "collapsed": false,
    "jupyter": {
     "outputs_hidden": false
    },
    "pycharm": {
     "name": "#%%\n"
    }
   },
   "outputs": [],
   "source": [
    "# get balances for futures account\n",
    "# print(client.futures_account_balance())"
   ]
  },
  {
   "cell_type": "code",
   "execution_count": 8,
   "metadata": {
    "collapsed": false,
    "jupyter": {
     "outputs_hidden": false
    },
    "pycharm": {
     "name": "#%%\n"
    }
   },
   "outputs": [],
   "source": [
    "# get balances for margin account\n",
    "# print(client.get_margin_account())"
   ]
  },
  {
   "cell_type": "code",
   "execution_count": null,
   "metadata": {
    "collapsed": false,
    "jupyter": {
     "outputs_hidden": false
    },
    "pycharm": {
     "name": "#%%\n"
    }
   },
   "outputs": [],
   "source": []
  },
  {
   "cell_type": "code",
   "execution_count": null,
   "metadata": {
    "collapsed": false,
    "jupyter": {
     "outputs_hidden": false
    },
    "pycharm": {
     "name": "#%%\n"
    }
   },
   "outputs": [],
   "source": []
  },
  {
   "cell_type": "code",
   "execution_count": null,
   "metadata": {
    "collapsed": false,
    "jupyter": {
     "outputs_hidden": false
    },
    "pycharm": {
     "name": "#%%\n"
    }
   },
   "outputs": [],
   "source": []
  },
  {
   "cell_type": "code",
   "execution_count": 9,
   "metadata": {
    "collapsed": false,
    "jupyter": {
     "outputs_hidden": false
    },
    "pycharm": {
     "name": "#%%\n"
    }
   },
   "outputs": [
    {
     "name": "stdout",
     "output_type": "stream",
     "text": [
      "{'symbol': 'BTCUSDT', 'price': '7900.00000000'}\n"
     ]
    }
   ],
   "source": [
    "# get latest price from Binance API\n",
    "btc_price = client.get_symbol_ticker(symbol=\"BTCUSDT\")\n",
    "# print full output (dictionary)\n",
    "print(btc_price)"
   ]
  },
  {
   "cell_type": "code",
   "execution_count": 10,
   "metadata": {
    "collapsed": false,
    "jupyter": {
     "outputs_hidden": false
    },
    "pycharm": {
     "name": "#%%\n"
    }
   },
   "outputs": [
    {
     "name": "stdout",
     "output_type": "stream",
     "text": [
      "7900.00000000\n"
     ]
    }
   ],
   "source": [
    "print(btc_price[\"price\"])"
   ]
  },
  {
   "cell_type": "code",
   "execution_count": null,
   "metadata": {
    "collapsed": false,
    "jupyter": {
     "outputs_hidden": false
    },
    "pycharm": {
     "name": "#%%\n"
    }
   },
   "outputs": [],
   "source": []
  },
  {
   "cell_type": "code",
   "execution_count": null,
   "metadata": {
    "collapsed": false,
    "jupyter": {
     "outputs_hidden": false
    },
    "pycharm": {
     "name": "#%%\n"
    }
   },
   "outputs": [],
   "source": []
  },
  {
   "cell_type": "code",
   "execution_count": null,
   "metadata": {
    "collapsed": false,
    "jupyter": {
     "outputs_hidden": false
    },
    "pycharm": {
     "name": "#%%\n"
    }
   },
   "outputs": [],
   "source": []
  },
  {
   "cell_type": "code",
   "execution_count": 11,
   "metadata": {
    "collapsed": false,
    "jupyter": {
     "outputs_hidden": false
    },
    "pycharm": {
     "name": "#%%\n"
    }
   },
   "outputs": [],
   "source": [
    "btc_price = {'error':False}\n",
    "\n",
    "def btc_trade_history(msg):\n",
    "    \"\"\" define how to process incoming WebSocket messages \"\"\"\n",
    "    #print(\"Inside function\")\n",
    "    if msg['e'] != 'error':\n",
    "        print(msg['c'])\n",
    "        btc_price['last'] = msg['c']\n",
    "        btc_price['bid'] = msg['b']\n",
    "        btc_price['ask'] = msg['a']\n",
    "    else:\n",
    "        btc_price['error'] = True"
   ]
  },
  {
   "cell_type": "code",
   "execution_count": 12,
   "metadata": {
    "collapsed": false,
    "jupyter": {
     "outputs_hidden": false
    },
    "pycharm": {
     "name": "#%%\n"
    }
   },
   "outputs": [
    {
     "name": "stdout",
     "output_type": "stream",
     "text": [
      "55852.78000000\n",
      "55852.78000000\n",
      "55852.78000000\n",
      "55852.81000000\n",
      "55858.93000000\n",
      "55858.97000000\n",
      "55858.97000000\n",
      "55859.32000000\n",
      "55881.68000000\n",
      "55881.69000000\n",
      "55890.27000000\n",
      "55896.95000000\n",
      "55881.69000000\n",
      "55862.82000000\n",
      "55871.00000000\n",
      "55871.01000000\n",
      "55865.72000000\n",
      "55858.94000000\n",
      "55877.60000000\n"
     ]
    }
   ],
   "source": [
    "# init and start the WebSocket\n",
    "bsm = BinanceSocketManager(client)\n",
    "conn_key = bsm.start_symbol_ticker_socket('BTCUSDT', btc_trade_history)\n",
    "bsm.start()"
   ]
  },
  {
   "cell_type": "code",
   "execution_count": 13,
   "metadata": {
    "collapsed": false,
    "jupyter": {
     "outputs_hidden": false
    },
    "pycharm": {
     "name": "#%%\n"
    }
   },
   "outputs": [],
   "source": [
    "# stop websocket\n",
    "bsm.stop_socket(conn_key)\n",
    "\n",
    "# properly terminate WebSocket\n",
    "reactor.stop()"
   ]
  },
  {
   "cell_type": "code",
   "execution_count": 14,
   "metadata": {
    "collapsed": false,
    "jupyter": {
     "outputs_hidden": false
    },
    "pycharm": {
     "name": "#%%\n"
    }
   },
   "outputs": [
    {
     "name": "stdout",
     "output_type": "stream",
     "text": [
      "Help on class BinanceSocketManager in module binance.websockets:\n",
      "\n",
      "class BinanceSocketManager(threading.Thread)\n",
      " |  BinanceSocketManager(client, user_timeout=1800)\n",
      " |  \n",
      " |  A class that represents a thread of control.\n",
      " |  \n",
      " |  This class can be safely subclassed in a limited fashion. There are two ways\n",
      " |  to specify the activity: by passing a callable object to the constructor, or\n",
      " |  by overriding the run() method in a subclass.\n",
      " |  \n",
      " |  Method resolution order:\n",
      " |      BinanceSocketManager\n",
      " |      threading.Thread\n",
      " |      builtins.object\n",
      " |  \n",
      " |  Methods defined here:\n",
      " |  \n",
      " |  __init__(self, client, user_timeout=1800)\n",
      " |      Initialise the BinanceSocketManager\n",
      " |      \n",
      " |      :param client: Binance API client\n",
      " |      :type client: binance.Client\n",
      " |      :param user_timeout: Custom websocket timeout\n",
      " |      :type user_timeout: int\n",
      " |  \n",
      " |  close(self)\n",
      " |      Close all connections\n",
      " |  \n",
      " |  run(self)\n",
      " |      Method representing the thread's activity.\n",
      " |      \n",
      " |      You may override this method in a subclass. The standard run() method\n",
      " |      invokes the callable object passed to the object's constructor as the\n",
      " |      target argument, if any, with sequential and keyword arguments taken\n",
      " |      from the args and kwargs arguments, respectively.\n",
      " |  \n",
      " |  start_aggtrade_socket(self, symbol, callback)\n",
      " |      Start a websocket for symbol trade data\n",
      " |      \n",
      " |      https://github.com/binance-exchange/binance-official-api-docs/blob/master/web-socket-streams.md#aggregate-trade-streams\n",
      " |      \n",
      " |      :param symbol: required\n",
      " |      :type symbol: str\n",
      " |      :param callback: callback function to handle messages\n",
      " |      :type callback: function\n",
      " |      \n",
      " |      :returns: connection key string if successful, False otherwise\n",
      " |      \n",
      " |      Message Format\n",
      " |      \n",
      " |      .. code-block:: python\n",
      " |      \n",
      " |          {\n",
      " |              \"e\": \"aggTrade\",                # event type\n",
      " |              \"E\": 1499405254326,             # event time\n",
      " |              \"s\": \"ETHBTC\",                  # symbol\n",
      " |              \"a\": 70232,                             # aggregated tradeid\n",
      " |              \"p\": \"0.10281118\",              # price\n",
      " |              \"q\": \"8.15632997\",              # quantity\n",
      " |              \"f\": 77489,                             # first breakdown trade id\n",
      " |              \"l\": 77489,                             # last breakdown trade id\n",
      " |              \"T\": 1499405254324,             # trade time\n",
      " |              \"m\": false,                             # whether buyer is a maker\n",
      " |              \"M\": true                               # can be ignored\n",
      " |          }\n",
      " |  \n",
      " |  start_all_mark_price_socket(self, callback, fast=True)\n",
      " |      Start a websocket for all futures mark price data\n",
      " |      By default all symbols are included in an array.\n",
      " |      https://binance-docs.github.io/apidocs/futures/en/#mark-price-stream-for-all-market\n",
      " |      :param callback: callback function to handle messages\n",
      " |      :type callback: function\n",
      " |      :returns: connection key string if successful, False otherwise\n",
      " |      Message Format\n",
      " |      .. code-block:: python\n",
      " |      \n",
      " |          [\n",
      " |              {\n",
      " |                  \"e\": \"markPriceUpdate\",  // Event type\n",
      " |                  \"E\": 1562305380000,      // Event time\n",
      " |                  \"s\": \"BTCUSDT\",          // Symbol\n",
      " |                  \"p\": \"11185.87786614\",   // Mark price\n",
      " |                  \"r\": \"0.00030000\",       // Funding rate\n",
      " |                  \"T\": 1562306400000       // Next funding time\n",
      " |              }\n",
      " |          ]\n",
      " |  \n",
      " |  start_all_ticker_futures_socket(self, callback)\n",
      " |      Start a websocket for all ticker data\n",
      " |      By default all markets are included in an array.\n",
      " |      https://binance-docs.github.io/apidocs/futures/en/#all-book-tickers-stream\n",
      " |      :param callback: callback function to handle messages\n",
      " |      :type callback: function\n",
      " |      :returns: connection key string if successful, False otherwise\n",
      " |      Message Format\n",
      " |      .. code-block:: python\n",
      " |          [\n",
      " |              {\n",
      " |                \"u\":400900217,     // order book updateId\n",
      " |                \"s\":\"BNBUSDT\",     // symbol\n",
      " |                \"b\":\"25.35190000\", // best bid price\n",
      " |                \"B\":\"31.21000000\", // best bid qty\n",
      " |                \"a\":\"25.36520000\", // best ask price\n",
      " |                \"A\":\"40.66000000\"  // best ask qty\n",
      " |              }\n",
      " |          ]\n",
      " |  \n",
      " |  start_book_ticker_socket(self, callback)\n",
      " |      Start a websocket for the best bid or ask's price or quantity for all symbols.\n",
      " |      \n",
      " |      https://github.com/binance-exchange/binance-official-api-docs/blob/master/web-socket-streams.md#all-book-tickers-stream\n",
      " |      \n",
      " |      :param callback: callback function to handle messages\n",
      " |      :type callback: function\n",
      " |      \n",
      " |      :returns: connection key string if successful, False otherwise\n",
      " |      \n",
      " |      Message Format\n",
      " |      \n",
      " |      .. code-block:: python\n",
      " |      \n",
      " |          {\n",
      " |              // Same as <symbol>@bookTicker payload\n",
      " |          }\n",
      " |  \n",
      " |  start_depth_socket(self, symbol, callback, depth=None, interval=None)\n",
      " |      Start a websocket for symbol market depth returning either a diff or a partial book\n",
      " |      \n",
      " |      https://github.com/binance-exchange/binance-official-api-docs/blob/master/web-socket-streams.md#partial-book-depth-streams\n",
      " |      \n",
      " |      :param symbol: required\n",
      " |      :type symbol: str\n",
      " |      :param callback: callback function to handle messages\n",
      " |      :type callback: function\n",
      " |      :param depth: optional Number of depth entries to return, default None. If passed returns a partial book instead of a diff\n",
      " |      :type depth: str\n",
      " |      :param interval: optional interval for updates, default None. If not set, updates happen every second. Must be 0, None (1s) or 100 (100ms)\n",
      " |      :type interval: int\n",
      " |      \n",
      " |      :returns: connection key string if successful, False otherwise\n",
      " |      \n",
      " |      Partial Message Format\n",
      " |      \n",
      " |      .. code-block:: python\n",
      " |      \n",
      " |          {\n",
      " |              \"lastUpdateId\": 160,  # Last update ID\n",
      " |              \"bids\": [             # Bids to be updated\n",
      " |                  [\n",
      " |                      \"0.0024\",     # price level to be updated\n",
      " |                      \"10\",         # quantity\n",
      " |                      []            # ignore\n",
      " |                  ]\n",
      " |              ],\n",
      " |              \"asks\": [             # Asks to be updated\n",
      " |                  [\n",
      " |                      \"0.0026\",     # price level to be updated\n",
      " |                      \"100\",        # quantity\n",
      " |                      []            # ignore\n",
      " |                  ]\n",
      " |              ]\n",
      " |          }\n",
      " |      \n",
      " |      \n",
      " |      Diff Message Format\n",
      " |      \n",
      " |      .. code-block:: python\n",
      " |      \n",
      " |          {\n",
      " |              \"e\": \"depthUpdate\", # Event type\n",
      " |              \"E\": 123456789,     # Event time\n",
      " |              \"s\": \"BNBBTC\",      # Symbol\n",
      " |              \"U\": 157,           # First update ID in event\n",
      " |              \"u\": 160,           # Final update ID in event\n",
      " |              \"b\": [              # Bids to be updated\n",
      " |                  [\n",
      " |                      \"0.0024\",   # price level to be updated\n",
      " |                      \"10\",       # quantity\n",
      " |                      []          # ignore\n",
      " |                  ]\n",
      " |              ],\n",
      " |              \"a\": [              # Asks to be updated\n",
      " |                  [\n",
      " |                      \"0.0026\",   # price level to be updated\n",
      " |                      \"100\",      # quantity\n",
      " |                      []          # ignore\n",
      " |                  ]\n",
      " |              ]\n",
      " |          }\n",
      " |  \n",
      " |  start_isolated_margin_socket(self, symbol, callback)\n",
      " |      Start a websocket for isolated margin data\n",
      " |      \n",
      " |      https://binance-docs.github.io/apidocs/spot/en/#listen-key-isolated-margin\n",
      " |      \n",
      " |      :param symbol: required - symbol for the isolated margin account\n",
      " |      :type symbol: str\n",
      " |      :param callback: callback function to handle messages\n",
      " |      :type callback: function\n",
      " |      \n",
      " |      :returns: connection key string if successful, False otherwise\n",
      " |      \n",
      " |      Message Format - see Binance API docs for all types\n",
      " |  \n",
      " |  start_kline_socket(self, symbol, callback, interval='1m')\n",
      " |      Start a websocket for symbol kline data\n",
      " |      \n",
      " |      https://github.com/binance-exchange/binance-official-api-docs/blob/master/web-socket-streams.md#klinecandlestick-streams\n",
      " |      \n",
      " |      :param symbol: required\n",
      " |      :type symbol: str\n",
      " |      :param callback: callback function to handle messages\n",
      " |      :type callback: function\n",
      " |      :param interval: Kline interval, default KLINE_INTERVAL_1MINUTE\n",
      " |      :type interval: str\n",
      " |      \n",
      " |      :returns: connection key string if successful, False otherwise\n",
      " |      \n",
      " |      Message Format\n",
      " |      \n",
      " |      .. code-block:: python\n",
      " |      \n",
      " |          {\n",
      " |              \"e\": \"kline\",                                   # event type\n",
      " |              \"E\": 1499404907056,                             # event time\n",
      " |              \"s\": \"ETHBTC\",                                  # symbol\n",
      " |              \"k\": {\n",
      " |                  \"t\": 1499404860000,                 # start time of this bar\n",
      " |                  \"T\": 1499404919999,                 # end time of this bar\n",
      " |                  \"s\": \"ETHBTC\",                              # symbol\n",
      " |                  \"i\": \"1m\",                                  # interval\n",
      " |                  \"f\": 77462,                                 # first trade id\n",
      " |                  \"L\": 77465,                                 # last trade id\n",
      " |                  \"o\": \"0.10278577\",                  # open\n",
      " |                  \"c\": \"0.10278645\",                  # close\n",
      " |                  \"h\": \"0.10278712\",                  # high\n",
      " |                  \"l\": \"0.10278518\",                  # low\n",
      " |                  \"v\": \"17.47929838\",                 # volume\n",
      " |                  \"n\": 4,                                             # number of trades\n",
      " |                  \"x\": false,                                 # whether this bar is final\n",
      " |                  \"q\": \"1.79662878\",                  # quote volume\n",
      " |                  \"V\": \"2.34879839\",                  # volume of active buy\n",
      " |                  \"Q\": \"0.24142166\",                  # quote volume of active buy\n",
      " |                  \"B\": \"13279784.01349473\"    # can be ignored\n",
      " |                  }\n",
      " |          }\n",
      " |  \n",
      " |  start_margin_socket(self, callback)\n",
      " |      Start a websocket for cross-margin data\n",
      " |      \n",
      " |      https://binance-docs.github.io/apidocs/spot/en/#listen-key-margin\n",
      " |      \n",
      " |      :param callback: callback function to handle messages\n",
      " |      :type callback: function\n",
      " |      \n",
      " |      :returns: connection key string if successful, False otherwise\n",
      " |      \n",
      " |      Message Format - see Binance API docs for all types\n",
      " |  \n",
      " |  start_miniticker_socket(self, callback, update_time=1000)\n",
      " |      Start a miniticker websocket for all trades\n",
      " |      \n",
      " |      This is not in the official Binance api docs, but this is what\n",
      " |      feeds the right column on a ticker page on Binance.\n",
      " |      \n",
      " |      :param callback: callback function to handle messages\n",
      " |      :type callback: function\n",
      " |      :param update_time: time between callbacks in milliseconds, must be 1000 or greater\n",
      " |      :type update_time: int\n",
      " |      \n",
      " |      :returns: connection key string if successful, False otherwise\n",
      " |      \n",
      " |      Message Format\n",
      " |      \n",
      " |      .. code-block:: python\n",
      " |      \n",
      " |          [\n",
      " |              {\n",
      " |                  'e': '24hrMiniTicker',  # Event type\n",
      " |                  'E': 1515906156273,     # Event time\n",
      " |                  's': 'QTUMETH',         # Symbol\n",
      " |                  'c': '0.03836900',      # close\n",
      " |                  'o': '0.03953500',      # open\n",
      " |                  'h': '0.04400000',      # high\n",
      " |                  'l': '0.03756000',      # low\n",
      " |                  'v': '147435.80000000', # volume\n",
      " |                  'q': '5903.84338533'    # quote volume\n",
      " |              }\n",
      " |          ]\n",
      " |  \n",
      " |  start_multiplex_socket(self, streams, callback)\n",
      " |      Start a multiplexed socket using a list of socket names.\n",
      " |      User stream sockets can not be included.\n",
      " |      \n",
      " |      Symbols in socket name must be lowercase i.e bnbbtc@aggTrade, neobtc@ticker\n",
      " |      \n",
      " |      Combined stream events are wrapped as follows: {\"stream\":\"<streamName>\",\"data\":<rawPayload>}\n",
      " |      \n",
      " |      https://github.com/binance-exchange/binance-official-api-docs/blob/master/web-socket-streams.md\n",
      " |      \n",
      " |      :param streams: list of stream names in lower case\n",
      " |      :type streams: list\n",
      " |      :param callback: callback function to handle messages\n",
      " |      :type callback: function\n",
      " |      \n",
      " |      :returns: connection key string if successful, False otherwise\n",
      " |      \n",
      " |      Message Format - see Binance API docs for all types\n",
      " |  \n",
      " |  start_symbol_book_ticker_socket(self, symbol, callback)\n",
      " |      Start a websocket for the best bid or ask's price or quantity for a specified symbol.\n",
      " |      \n",
      " |      https://github.com/binance-exchange/binance-official-api-docs/blob/master/web-socket-streams.md#individual-symbol-book-ticker-streams\n",
      " |      \n",
      " |      :param symbol: required\n",
      " |      :type symbol: str\n",
      " |      :param callback: callback function to handle messages\n",
      " |      :type callback: function\n",
      " |      \n",
      " |      :returns: connection key string if successful, False otherwise\n",
      " |      \n",
      " |      Message Format\n",
      " |      \n",
      " |      .. code-block:: python\n",
      " |      \n",
      " |          {\n",
      " |              \"u\":400900217,     // order book updateId\n",
      " |              \"s\":\"BNBUSDT\",     // symbol\n",
      " |              \"b\":\"25.35190000\", // best bid price\n",
      " |              \"B\":\"31.21000000\", // best bid qty\n",
      " |              \"a\":\"25.36520000\", // best ask price\n",
      " |              \"A\":\"40.66000000\"  // best ask qty\n",
      " |          }\n",
      " |  \n",
      " |  start_symbol_mark_price_socket(self, symbol, callback, fast=True)\n",
      " |      Start a websocket for a symbol's futures mark price\n",
      " |      https://binance-docs.github.io/apidocs/futures/en/#mark-price-stream\n",
      " |      :param symbol: required\n",
      " |      :type symbol: str\n",
      " |      :param callback: callback function to handle messages\n",
      " |      :type callback: function\n",
      " |      :returns: connection key string if successful, False otherwise\n",
      " |      Message Format\n",
      " |      .. code-block:: python\n",
      " |          {\n",
      " |              \"e\": \"markPriceUpdate\",  // Event type\n",
      " |              \"E\": 1562305380000,      // Event time\n",
      " |              \"s\": \"BTCUSDT\",          // Symbol\n",
      " |              \"p\": \"11185.87786614\",   // Mark price\n",
      " |              \"r\": \"0.00030000\",       // Funding rate\n",
      " |              \"T\": 1562306400000       // Next funding time\n",
      " |          }\n",
      " |  \n",
      " |  start_symbol_ticker_futures_socket(self, symbol, callback)\n",
      " |      Start a websocket for a symbol's ticker data\n",
      " |      By default all markets are included in an array.\n",
      " |      https://binance-docs.github.io/apidocs/futures/en/#individual-symbol-book-ticker-streams\n",
      " |      :param symbol: required\n",
      " |      :type symbol: str\n",
      " |      :param callback: callback function to handle messages\n",
      " |      :type callback: function\n",
      " |      :returns: connection key string if successful, False otherwise\n",
      " |      .. code-block:: python\n",
      " |          [\n",
      " |              {\n",
      " |                \"u\":400900217,     // order book updateId\n",
      " |                \"s\":\"BNBUSDT\",     // symbol\n",
      " |                \"b\":\"25.35190000\", // best bid price\n",
      " |                \"B\":\"31.21000000\", // best bid qty\n",
      " |                \"a\":\"25.36520000\", // best ask price\n",
      " |                \"A\":\"40.66000000\"  // best ask qty\n",
      " |              }\n",
      " |          ]\n",
      " |  \n",
      " |  start_symbol_ticker_socket(self, symbol, callback)\n",
      " |      Start a websocket for a symbol's ticker data\n",
      " |      \n",
      " |      https://github.com/binance-exchange/binance-official-api-docs/blob/master/web-socket-streams.md#individual-symbol-ticker-streams\n",
      " |      \n",
      " |      :param symbol: required\n",
      " |      :type symbol: str\n",
      " |      :param callback: callback function to handle messages\n",
      " |      :type callback: function\n",
      " |      \n",
      " |      :returns: connection key string if successful, False otherwise\n",
      " |      \n",
      " |      Message Format\n",
      " |      \n",
      " |      .. code-block:: python\n",
      " |      \n",
      " |          {\n",
      " |              \"e\": \"24hrTicker\",  # Event type\n",
      " |              \"E\": 123456789,     # Event time\n",
      " |              \"s\": \"BNBBTC\",      # Symbol\n",
      " |              \"p\": \"0.0015\",      # Price change\n",
      " |              \"P\": \"250.00\",      # Price change percent\n",
      " |              \"w\": \"0.0018\",      # Weighted average price\n",
      " |              \"x\": \"0.0009\",      # Previous day's close price\n",
      " |              \"c\": \"0.0025\",      # Current day's close price\n",
      " |              \"Q\": \"10\",          # Close trade's quantity\n",
      " |              \"b\": \"0.0024\",      # Best bid price\n",
      " |              \"B\": \"10\",          # Bid bid quantity\n",
      " |              \"a\": \"0.0026\",      # Best ask price\n",
      " |              \"A\": \"100\",         # Best ask quantity\n",
      " |              \"o\": \"0.0010\",      # Open price\n",
      " |              \"h\": \"0.0025\",      # High price\n",
      " |              \"l\": \"0.0010\",      # Low price\n",
      " |              \"v\": \"10000\",       # Total traded base asset volume\n",
      " |              \"q\": \"18\",          # Total traded quote asset volume\n",
      " |              \"O\": 0,             # Statistics open time\n",
      " |              \"C\": 86400000,      # Statistics close time\n",
      " |              \"F\": 0,             # First trade ID\n",
      " |              \"L\": 18150,         # Last trade Id\n",
      " |              \"n\": 18151          # Total number of trades\n",
      " |          }\n",
      " |  \n",
      " |  start_ticker_socket(self, callback)\n",
      " |      Start a websocket for all ticker data\n",
      " |      \n",
      " |      By default all markets are included in an array.\n",
      " |      \n",
      " |      https://github.com/binance-exchange/binance-official-api-docs/blob/master/web-socket-streams.md#all-market-tickers-stream\n",
      " |      \n",
      " |      :param callback: callback function to handle messages\n",
      " |      :type callback: function\n",
      " |      \n",
      " |      :returns: connection key string if successful, False otherwise\n",
      " |      \n",
      " |      Message Format\n",
      " |      \n",
      " |      .. code-block:: python\n",
      " |      \n",
      " |          [\n",
      " |              {\n",
      " |                  'F': 278610,\n",
      " |                  'o': '0.07393000',\n",
      " |                  's': 'BCCBTC',\n",
      " |                  'C': 1509622420916,\n",
      " |                  'b': '0.07800800',\n",
      " |                  'l': '0.07160300',\n",
      " |                  'h': '0.08199900',\n",
      " |                  'L': 287722,\n",
      " |                  'P': '6.694',\n",
      " |                  'Q': '0.10000000',\n",
      " |                  'q': '1202.67106335',\n",
      " |                  'p': '0.00494900',\n",
      " |                  'O': 1509536020916,\n",
      " |                  'a': '0.07887800',\n",
      " |                  'n': 9113,\n",
      " |                  'B': '1.00000000',\n",
      " |                  'c': '0.07887900',\n",
      " |                  'x': '0.07399600',\n",
      " |                  'w': '0.07639068',\n",
      " |                  'A': '2.41900000',\n",
      " |                  'v': '15743.68900000'\n",
      " |              }\n",
      " |          ]\n",
      " |  \n",
      " |  start_trade_socket(self, symbol, callback)\n",
      " |      Start a websocket for symbol trade data\n",
      " |      \n",
      " |      https://github.com/binance-exchange/binance-official-api-docs/blob/master/web-socket-streams.md#trade-streams\n",
      " |      \n",
      " |      :param symbol: required\n",
      " |      :type symbol: str\n",
      " |      :param callback: callback function to handle messages\n",
      " |      :type callback: function\n",
      " |      \n",
      " |      :returns: connection key string if successful, False otherwise\n",
      " |      \n",
      " |      Message Format\n",
      " |      \n",
      " |      .. code-block:: python\n",
      " |      \n",
      " |          {\n",
      " |              \"e\": \"trade\",     # Event type\n",
      " |              \"E\": 123456789,   # Event time\n",
      " |              \"s\": \"BNBBTC\",    # Symbol\n",
      " |              \"t\": 12345,       # Trade ID\n",
      " |              \"p\": \"0.001\",     # Price\n",
      " |              \"q\": \"100\",       # Quantity\n",
      " |              \"b\": 88,          # Buyer order Id\n",
      " |              \"a\": 50,          # Seller order Id\n",
      " |              \"T\": 123456785,   # Trade time\n",
      " |              \"m\": true,        # Is the buyer the market maker?\n",
      " |              \"M\": true         # Ignore.\n",
      " |          }\n",
      " |  \n",
      " |  start_user_socket(self, callback)\n",
      " |      Start a websocket for user data\n",
      " |      \n",
      " |      https://github.com/binance-exchange/binance-official-api-docs/blob/master/user-data-stream.md\n",
      " |      https://binance-docs.github.io/apidocs/spot/en/#listen-key-spot\n",
      " |      \n",
      " |      :param callback: callback function to handle messages\n",
      " |      :type callback: function\n",
      " |      \n",
      " |      :returns: connection key string if successful, False otherwise\n",
      " |      \n",
      " |      Message Format - see Binance API docs for all types\n",
      " |  \n",
      " |  stop_socket(self, conn_key)\n",
      " |      Stop a websocket given the connection key\n",
      " |      \n",
      " |      :param conn_key: Socket connection key\n",
      " |      :type conn_key: string\n",
      " |      \n",
      " |      :returns: connection key string if successful, False otherwise\n",
      " |  \n",
      " |  ----------------------------------------------------------------------\n",
      " |  Data and other attributes defined here:\n",
      " |  \n",
      " |  DEFAULT_USER_TIMEOUT = 1800\n",
      " |  \n",
      " |  FSTREAM_URL = 'wss://fstream.binance.com/'\n",
      " |  \n",
      " |  STREAM_URL = 'wss://stream.binance.com:9443/'\n",
      " |  \n",
      " |  WEBSOCKET_DEPTH_10 = '10'\n",
      " |  \n",
      " |  WEBSOCKET_DEPTH_20 = '20'\n",
      " |  \n",
      " |  WEBSOCKET_DEPTH_5 = '5'\n",
      " |  \n",
      " |  ----------------------------------------------------------------------\n",
      " |  Methods inherited from threading.Thread:\n",
      " |  \n",
      " |  __repr__(self)\n",
      " |      Return repr(self).\n",
      " |  \n",
      " |  getName(self)\n",
      " |  \n",
      " |  isAlive(self)\n",
      " |      Return whether the thread is alive.\n",
      " |      \n",
      " |      This method is deprecated, use is_alive() instead.\n",
      " |  \n",
      " |  isDaemon(self)\n",
      " |  \n",
      " |  is_alive(self)\n",
      " |      Return whether the thread is alive.\n",
      " |      \n",
      " |      This method returns True just before the run() method starts until just\n",
      " |      after the run() method terminates. The module function enumerate()\n",
      " |      returns a list of all alive threads.\n",
      " |  \n",
      " |  join(self, timeout=None)\n",
      " |      Wait until the thread terminates.\n",
      " |      \n",
      " |      This blocks the calling thread until the thread whose join() method is\n",
      " |      called terminates -- either normally or through an unhandled exception\n",
      " |      or until the optional timeout occurs.\n",
      " |      \n",
      " |      When the timeout argument is present and not None, it should be a\n",
      " |      floating point number specifying a timeout for the operation in seconds\n",
      " |      (or fractions thereof). As join() always returns None, you must call\n",
      " |      is_alive() after join() to decide whether a timeout happened -- if the\n",
      " |      thread is still alive, the join() call timed out.\n",
      " |      \n",
      " |      When the timeout argument is not present or None, the operation will\n",
      " |      block until the thread terminates.\n",
      " |      \n",
      " |      A thread can be join()ed many times.\n",
      " |      \n",
      " |      join() raises a RuntimeError if an attempt is made to join the current\n",
      " |      thread as that would cause a deadlock. It is also an error to join() a\n",
      " |      thread before it has been started and attempts to do so raises the same\n",
      " |      exception.\n",
      " |  \n",
      " |  setDaemon(self, daemonic)\n",
      " |  \n",
      " |  setName(self, name)\n",
      " |  \n",
      " |  start(self)\n",
      " |      Start the thread's activity.\n",
      " |      \n",
      " |      It must be called at most once per thread object. It arranges for the\n",
      " |      object's run() method to be invoked in a separate thread of control.\n",
      " |      \n",
      " |      This method will raise a RuntimeError if called more than once on the\n",
      " |      same thread object.\n",
      " |  \n",
      " |  ----------------------------------------------------------------------\n",
      " |  Data descriptors inherited from threading.Thread:\n",
      " |  \n",
      " |  __dict__\n",
      " |      dictionary for instance variables (if defined)\n",
      " |  \n",
      " |  __weakref__\n",
      " |      list of weak references to the object (if defined)\n",
      " |  \n",
      " |  daemon\n",
      " |      A boolean value indicating whether this thread is a daemon thread.\n",
      " |      \n",
      " |      This must be set before start() is called, otherwise RuntimeError is\n",
      " |      raised. Its initial value is inherited from the creating thread; the\n",
      " |      main thread is not a daemon thread and therefore all threads created in\n",
      " |      the main thread default to daemon = False.\n",
      " |      \n",
      " |      The entire Python program exits when no alive non-daemon threads are\n",
      " |      left.\n",
      " |  \n",
      " |  ident\n",
      " |      Thread identifier of this thread or None if it has not been started.\n",
      " |      \n",
      " |      This is a nonzero integer. See the get_ident() function. Thread\n",
      " |      identifiers may be recycled when a thread exits and another thread is\n",
      " |      created. The identifier is available even after the thread has exited.\n",
      " |  \n",
      " |  name\n",
      " |      A string used for identification purposes only.\n",
      " |      \n",
      " |      It has no semantics. Multiple threads may be given the same name. The\n",
      " |      initial name is set by the constructor.\n",
      "\n"
     ]
    }
   ],
   "source": [
    "help(BinanceSocketManager)"
   ]
  },
  {
   "cell_type": "code",
   "execution_count": null,
   "metadata": {
    "collapsed": false,
    "jupyter": {
     "outputs_hidden": false
    },
    "pycharm": {
     "name": "#%%\n"
    }
   },
   "outputs": [],
   "source": []
  },
  {
   "cell_type": "code",
   "execution_count": null,
   "metadata": {},
   "outputs": [],
   "source": []
  },
  {
   "cell_type": "code",
   "execution_count": null,
   "metadata": {},
   "outputs": [],
   "source": []
  },
  {
   "cell_type": "code",
   "execution_count": 15,
   "metadata": {},
   "outputs": [
    {
     "name": "stdout",
     "output_type": "stream",
     "text": [
      "1612137600000\n"
     ]
    }
   ],
   "source": [
    "# valid intervals - 1m, 3m, 5m, 15m, 30m, 1h, 2h, 4h, 6h, 8h, 12h, 1d, 3d, 1w, 1M\n",
    "\n",
    "# get timestamp of earliest date data is available\n",
    "timestamp = client._get_earliest_valid_timestamp('BTCUSDT', '1d')\n",
    "print(timestamp)"
   ]
  },
  {
   "cell_type": "code",
   "execution_count": 16,
   "metadata": {},
   "outputs": [],
   "source": [
    "# request historical candle (or klines) data\n",
    "bars = client.get_historical_klines('BTCUSDT', '1d', timestamp, limit=1000)"
   ]
  },
  {
   "cell_type": "code",
   "execution_count": 17,
   "metadata": {},
   "outputs": [
    {
     "data": {
      "text/plain": [
       "[[1612137600000,\n",
       "  '33759.83000000',\n",
       "  '900000.00000000',\n",
       "  '9000.00000000',\n",
       "  '882000.00000000',\n",
       "  '3.33265000',\n",
       "  1612223999999,\n",
       "  '239384.12228596',\n",
       "  188,\n",
       "  '2.32051200',\n",
       "  '204624.71086648',\n",
       "  '0'],\n",
       " [1612224000000,\n",
       "  '882000.00000000',\n",
       "  '882000.00000000',\n",
       "  '602000.00000000',\n",
       "  '772200.00000000',\n",
       "  '0.12958300',\n",
       "  1612310399999,\n",
       "  '108345.91487200',\n",
       "  102,\n",
       "  '0.11721900',\n",
       "  '99547.52580000',\n",
       "  '0'],\n",
       " [1612310400000,\n",
       "  '702000.00000000',\n",
       "  '772200.00000000',\n",
       "  '200000.00000000',\n",
       "  '700000.00000000',\n",
       "  '0.17222200',\n",
       "  1612396799999,\n",
       "  '124636.73209448',\n",
       "  132,\n",
       "  '0.13973400',\n",
       "  '105948.46129856',\n",
       "  '0'],\n",
       " [1612396800000,\n",
       "  '500000.00000000',\n",
       "  '500000.00000000',\n",
       "  '6000.00000000',\n",
       "  '9000.00000000',\n",
       "  '2.00530700',\n",
       "  1612483199999,\n",
       "  '83399.00379210',\n",
       "  131,\n",
       "  '1.58434600',\n",
       "  '74828.87856010',\n",
       "  '0'],\n",
       " [1612483200000,\n",
       "  '37500.00000000',\n",
       "  '44236.08000000',\n",
       "  '9000.00000000',\n",
       "  '44236.08000000',\n",
       "  '1.96372900',\n",
       "  1612569599999,\n",
       "  '76041.09742634',\n",
       "  206,\n",
       "  '1.71525800',\n",
       "  '66148.64938978',\n",
       "  '0'],\n",
       " [1612569600000,\n",
       "  '44236.08000000',\n",
       "  '49000.00000000',\n",
       "  '5000.00000000',\n",
       "  '49000.00000000',\n",
       "  '6.22424200',\n",
       "  1612655999999,\n",
       "  '245274.27243335',\n",
       "  343,\n",
       "  '3.75285400',\n",
       "  '149403.25794339',\n",
       "  '0'],\n",
       " [1612656000000,\n",
       "  '49000.00000000',\n",
       "  '49000.00000000',\n",
       "  '7000.00000000',\n",
       "  '30597.87000000',\n",
       "  '2.73929600',\n",
       "  1612742399999,\n",
       "  '75961.47275701',\n",
       "  333,\n",
       "  '2.35995100',\n",
       "  '66237.06064484',\n",
       "  '0'],\n",
       " [1612742400000,\n",
       "  '30597.87000000',\n",
       "  '772200.00000000',\n",
       "  '7782.00000000',\n",
       "  '772200.00000000',\n",
       "  '4.09300500',\n",
       "  1612828799999,\n",
       "  '230048.51666977',\n",
       "  322,\n",
       "  '3.02692000',\n",
       "  '209343.68156557',\n",
       "  '0'],\n",
       " [1612828800000,\n",
       "  '772200.00000000',\n",
       "  '772200.00000000',\n",
       "  '1000.00000000',\n",
       "  '45071.46000000',\n",
       "  '1.55343500',\n",
       "  1612915199999,\n",
       "  '62221.86748982',\n",
       "  302,\n",
       "  '0.92444800',\n",
       "  '47389.98868982',\n",
       "  '0'],\n",
       " [1612915200000,\n",
       "  '45071.46000000',\n",
       "  '772200.00000000',\n",
       "  '2000.00000000',\n",
       "  '390000.00000000',\n",
       "  '0.77886800',\n",
       "  1613001599999,\n",
       "  '58914.50535128',\n",
       "  137,\n",
       "  '0.73276500',\n",
       "  '58114.71562418',\n",
       "  '0'],\n",
       " [1613001600000,\n",
       "  '395000.00000000',\n",
       "  '772200.00000000',\n",
       "  '38416.00000000',\n",
       "  '38416.00000000',\n",
       "  '0.44385300',\n",
       "  1613087999999,\n",
       "  '224339.57883800',\n",
       "  311,\n",
       "  '0.35587000',\n",
       "  '198608.10345400',\n",
       "  '0'],\n",
       " [1613088000000,\n",
       "  '38416.00000000',\n",
       "  '200000.00000000',\n",
       "  '7000.02000000',\n",
       "  '7000.02000000',\n",
       "  '2.50227700',\n",
       "  1613174399999,\n",
       "  '38610.51283464',\n",
       "  418,\n",
       "  '2.49649900',\n",
       "  '38466.76796908',\n",
       "  '0'],\n",
       " [1613174400000,\n",
       "  '7000.02000000',\n",
       "  '47880.11000000',\n",
       "  '6300.01000000',\n",
       "  '9000.00000000',\n",
       "  '7.50468400',\n",
       "  1613260799999,\n",
       "  '136382.47517738',\n",
       "  442,\n",
       "  '4.81335800',\n",
       "  '94768.17710144',\n",
       "  '0'],\n",
       " [1613260800000,\n",
       "  '28007.65000000',\n",
       "  '49295.07000000',\n",
       "  '2000.00000000',\n",
       "  '49295.07000000',\n",
       "  '3.81551900',\n",
       "  1613347199999,\n",
       "  '68035.21917380',\n",
       "  197,\n",
       "  '2.14147200',\n",
       "  '52230.90736780',\n",
       "  '0'],\n",
       " [1613347200000,\n",
       "  '49295.07000000',\n",
       "  '772200.00000000',\n",
       "  '5500.00000000',\n",
       "  '772200.00000000',\n",
       "  '1.53745700',\n",
       "  1613433599999,\n",
       "  '102530.63790471',\n",
       "  247,\n",
       "  '0.60671400',\n",
       "  '81429.35609157',\n",
       "  '0'],\n",
       " [1613433600000,\n",
       "  '772200.00000000',\n",
       "  '772200.00000000',\n",
       "  '9000.00000000',\n",
       "  '48600.00000000',\n",
       "  '0.46002200',\n",
       "  1613519999999,\n",
       "  '42890.88209539',\n",
       "  253,\n",
       "  '0.30098200',\n",
       "  '29213.16081202',\n",
       "  '0'],\n",
       " [1613520000000,\n",
       "  '48600.00000000',\n",
       "  '48600.00000000',\n",
       "  '4500.00000000',\n",
       "  '10000.00000000',\n",
       "  '2.43927300',\n",
       "  1613606399999,\n",
       "  '46585.27970699',\n",
       "  191,\n",
       "  '1.96803800',\n",
       "  '30169.58984560',\n",
       "  '0'],\n",
       " [1613606400000,\n",
       "  '10000.00000000',\n",
       "  '48600.00000000',\n",
       "  '2000.00000000',\n",
       "  '2000.00000000',\n",
       "  '7.12343200',\n",
       "  1613692799999,\n",
       "  '125935.17507209',\n",
       "  789,\n",
       "  '3.79906600',\n",
       "  '91861.64890585',\n",
       "  '0'],\n",
       " [1613692800000,\n",
       "  '7900.00000000',\n",
       "  '172872.00000000',\n",
       "  '1500.00000000',\n",
       "  '7900.00000000',\n",
       "  '11.20797300',\n",
       "  1613779199999,\n",
       "  '145597.32318628',\n",
       "  926,\n",
       "  '4.64170500',\n",
       "  '85577.73177610',\n",
       "  '0'],\n",
       " [1613779200000,\n",
       "  '7900.00000000',\n",
       "  '172872.00000000',\n",
       "  '1540.00000000',\n",
       "  '7900.00000000',\n",
       "  '13.81228700',\n",
       "  1613865599999,\n",
       "  '104114.54036018',\n",
       "  1475,\n",
       "  '8.23818000',\n",
       "  '78310.00317361',\n",
       "  '0'],\n",
       " [1613865600000,\n",
       "  '7900.00000000',\n",
       "  '7900.00000000',\n",
       "  '7900.00000000',\n",
       "  '7900.00000000',\n",
       "  '0.29525800',\n",
       "  1613951999999,\n",
       "  '2332.53820000',\n",
       "  42,\n",
       "  '0.29525800',\n",
       "  '2332.53820000',\n",
       "  '0']]"
      ]
     },
     "execution_count": 17,
     "metadata": {},
     "output_type": "execute_result"
    }
   ],
   "source": [
    "bars"
   ]
  },
  {
   "cell_type": "code",
   "execution_count": null,
   "metadata": {},
   "outputs": [],
   "source": [
    "# option 1 - save to file using json method\n",
    "with open('btc_bars.json', 'w') as e:\n",
    "    json.dump(bars, e)"
   ]
  },
  {
   "cell_type": "code",
   "execution_count": null,
   "metadata": {},
   "outputs": [],
   "source": [
    "# option 2 - save as CSV file using the csv writer library\n",
    "with open('btc_bars.csv', 'w', newline='') as f:\n",
    "\twr = csv.writer(f)\n",
    "    for line in bars:\n",
    "        wr.writerow(line)"
   ]
  },
  {
   "cell_type": "code",
   "execution_count": null,
   "metadata": {},
   "outputs": [],
   "source": [
    "# option 3 - save as CSV file without using a library. \n",
    "with open('btc_bars2.csv', 'w') as d:\n",
    "    for line in bars:\n",
    "        d.write(f'{line[0]}, {line[1]}, {line[2]}, {line[3]}, {line[4]}\\n')"
   ]
  },
  {
   "cell_type": "code",
   "execution_count": 18,
   "metadata": {},
   "outputs": [],
   "source": [
    "# delete unwanted data - just keep date, open, high, low, close\n",
    "for line in bars:\n",
    "    del line[5:]"
   ]
  },
  {
   "cell_type": "code",
   "execution_count": 21,
   "metadata": {},
   "outputs": [
    {
     "name": "stdout",
     "output_type": "stream",
     "text": [
      "                          open             high              low  \\\n",
      "date                                                               \n",
      "1612137600000   33759.83000000  900000.00000000    9000.00000000   \n",
      "1612224000000  882000.00000000  882000.00000000  602000.00000000   \n",
      "1612310400000  702000.00000000  772200.00000000  200000.00000000   \n",
      "1612396800000  500000.00000000  500000.00000000    6000.00000000   \n",
      "1612483200000   37500.00000000   44236.08000000    9000.00000000   \n",
      "\n",
      "                         close  \n",
      "date                            \n",
      "1612137600000  882000.00000000  \n",
      "1612224000000  772200.00000000  \n",
      "1612310400000  700000.00000000  \n",
      "1612396800000    9000.00000000  \n",
      "1612483200000   44236.08000000  \n"
     ]
    }
   ],
   "source": [
    "# option 4 - create a Pandas DataFrame and export to CSV\n",
    "btc_df = pd.DataFrame(bars, columns=['date', 'open', 'high', 'low', 'close'])\n",
    "btc_df.set_index('date', inplace=True)\n",
    "print(btc_df.head())"
   ]
  },
  {
   "cell_type": "code",
   "execution_count": 22,
   "metadata": {},
   "outputs": [],
   "source": [
    "# export DataFrame to csv\n",
    "btc_df.to_csv('btc_bars3.csv')"
   ]
  },
  {
   "cell_type": "code",
   "execution_count": null,
   "metadata": {},
   "outputs": [],
   "source": []
  }
 ],
 "metadata": {
  "kernelspec": {
   "display_name": "Python 3",
   "language": "python",
   "name": "python3"
  },
  "language_info": {
   "codemirror_mode": {
    "name": "ipython",
    "version": 3
   },
   "file_extension": ".py",
   "mimetype": "text/x-python",
   "name": "python",
   "nbconvert_exporter": "python",
   "pygments_lexer": "ipython3",
   "version": "3.7.4"
  }
 },
 "nbformat": 4,
 "nbformat_minor": 4
}